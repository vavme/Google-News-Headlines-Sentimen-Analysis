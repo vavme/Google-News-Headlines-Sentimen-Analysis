{
  "nbformat": 4,
  "nbformat_minor": 0,
  "metadata": {
    "colab": {
      "name": "Web Scraping.ipynb",
      "provenance": [],
      "include_colab_link": true
    },
    "kernelspec": {
      "display_name": "Python 3",
      "language": "python",
      "name": "python3"
    },
    "language_info": {
      "codemirror_mode": {
        "name": "ipython",
        "version": 3
      },
      "file_extension": ".py",
      "mimetype": "text/x-python",
      "name": "python",
      "nbconvert_exporter": "python",
      "pygments_lexer": "ipython3",
      "version": "3.8.5"
    }
  },
  "cells": [
    {
      "cell_type": "markdown",
      "metadata": {
        "id": "view-in-github",
        "colab_type": "text"
      },
      "source": [
        "<a href=\"https://colab.research.google.com/github/vavme/Google-News-Headlines-Sentimen-Analysis/blob/main/Web_Scraping.ipynb\" target=\"_parent\"><img src=\"https://colab.research.google.com/assets/colab-badge.svg\" alt=\"Open In Colab\"/></a>"
      ]
    },
    {
      "cell_type": "markdown",
      "metadata": {
        "id": "k9ARox1D1bvG"
      },
      "source": [
        "Scraping Google News Headlines from Investing.com HTML structure using Selenium Python"
      ]
    },
    {
      "cell_type": "code",
      "metadata": {
        "id": "U9D17RnY1VCJ"
      },
      "source": [
        "import pandas as pd"
      ],
      "execution_count": null,
      "outputs": []
    },
    {
      "cell_type": "code",
      "metadata": {
        "id": "K2fwPZ83v50M"
      },
      "source": [
        "from urllib.request import urlopen, Request\n",
        "from bs4 import BeautifulSoup"
      ],
      "execution_count": null,
      "outputs": []
    },
    {
      "cell_type": "code",
      "metadata": {
        "id": "wotqb5PlxIYN"
      },
      "source": [
        "url = \"https://id.investing.com/search/\""
      ],
      "execution_count": null,
      "outputs": []
    },
    {
      "cell_type": "code",
      "metadata": {
        "id": "DGQEadfv0-xz"
      },
      "source": [
        "import time\n",
        "\n",
        "from selenium import webdriver\n",
        "from selenium.webdriver.common.keys import Keys"
      ],
      "execution_count": null,
      "outputs": []
    },
    {
      "cell_type": "code",
      "metadata": {
        "id": "fQY4E5uv4c40"
      },
      "source": [
        "browser = webdriver.Chrome(r\"C:\\Users\\Vav\\Downloads\\Compressed\\chromedriver_win32\\chromedriver.exe\")\n",
        "\n",
        "browser.get(url)\n",
        "time.sleep(5)"
      ],
      "execution_count": null,
      "outputs": []
    },
    {
      "cell_type": "code",
      "metadata": {
        "id": "nyHc1Y8p4pTm"
      },
      "source": [
        "elem = browser.find_element_by_tag_name(\"body\")\n",
        "no_of_pagedowns = 200\n",
        "\n",
        "while no_of_pagedowns:\n",
        "    elem.send_keys(Keys.PAGE_DOWN)\n",
        "    time.sleep(1)\n",
        "    no_of_pagedowns-=1\n",
        "\n",
        "post_elems_full = browser.find_elements_by_xpath(\"//*[@class='title' or @class='date']\")"
      ],
      "execution_count": null,
      "outputs": []
    },
    {
      "cell_type": "code",
      "metadata": {
        "id": "PRoKNWCp1VCj"
      },
      "source": [
        "elems = post_elems_full.copy()"
      ],
      "execution_count": null,
      "outputs": []
    },
    {
      "cell_type": "code",
      "metadata": {
        "scrolled": true,
        "id": "Q5nT5wl51VCm",
        "outputId": "f2fa7b55-b3f9-43d0-e332-178f5a6f94ba"
      },
      "source": [
        "for post in elems[:25]:\n",
        "    print(post.text)"
      ],
      "execution_count": null,
      "outputs": [
        {
          "name": "stdout",
          "output_type": "stream",
          "text": [
            "\n",
            "\n",
            "\n",
            "\n",
            "\n",
            "\n",
            "\n",
            "\n",
            "\n",
            "\n",
            "\n",
            "\n",
            "\n",
            "\n",
            "\n",
            "Internet Computer (ICP): Recent Developments, Community, Future Events\n",
            "Jun 20, 2021\n",
            "Theta Fuel (TFUEL): Recent Developments, Community, Future Events\n",
            "4 hours ago\n",
            "U.S. House panel to vote Wednesday on bills targeting Big Tech\n",
            "Jun 17, 2021\n",
            "Google's cloud taps AMD for new service as chip wars heat up\n",
            "Jun 17, 2021\n",
            "PayPal, Salesforce contribute to TRM Labs’ $14M investment round\n",
            "Jun 17, 2021\n"
          ]
        }
      ]
    },
    {
      "cell_type": "code",
      "metadata": {
        "id": "9q7PciuO1VCp"
      },
      "source": [
        "dfta = []"
      ],
      "execution_count": null,
      "outputs": []
    },
    {
      "cell_type": "code",
      "metadata": {
        "id": "T5EfkfUj1VCq"
      },
      "source": [
        "for post in elems:\n",
        "    dfta.append(post.text)"
      ],
      "execution_count": null,
      "outputs": []
    },
    {
      "cell_type": "code",
      "metadata": {
        "id": "tvbtz48S1VDF",
        "outputId": "ad2557ed-fe91-4f40-be4e-aa5e8795f94b"
      },
      "source": [
        "dfta[:15]"
      ],
      "execution_count": null,
      "outputs": [
        {
          "data": {
            "text/plain": [
              "['', '', '', '', '', '', '', '', '', '', '', '', '', '', '']"
            ]
          },
          "execution_count": 16,
          "metadata": {},
          "output_type": "execute_result"
        }
      ]
    },
    {
      "cell_type": "code",
      "metadata": {
        "id": "9US43t3t1VDO",
        "outputId": "8b651373-f8e8-4a6c-a143-fdcb5efc4695"
      },
      "source": [
        "dfta[-4:]"
      ],
      "execution_count": null,
      "outputs": [
        {
          "data": {
            "text/plain": [
              "['Investing.com', 'Our Apps', 'Follow us', '']"
            ]
          },
          "execution_count": 22,
          "metadata": {},
          "output_type": "execute_result"
        }
      ]
    },
    {
      "cell_type": "code",
      "metadata": {
        "scrolled": true,
        "id": "jxlARiqR1VDQ"
      },
      "source": [
        "del dfta[:15]"
      ],
      "execution_count": null,
      "outputs": []
    },
    {
      "cell_type": "code",
      "metadata": {
        "id": "VzpD1zHM1VDR"
      },
      "source": [
        "del dfta[-4:]"
      ],
      "execution_count": null,
      "outputs": []
    },
    {
      "cell_type": "code",
      "metadata": {
        "id": "3YhmERMf1VDT",
        "outputId": "03bf816d-f532-4b4f-d799-a62f94e885b1"
      },
      "source": [
        "len(dfta)"
      ],
      "execution_count": null,
      "outputs": [
        {
          "data": {
            "text/plain": [
              "2540"
            ]
          },
          "execution_count": 24,
          "metadata": {},
          "output_type": "execute_result"
        }
      ]
    },
    {
      "cell_type": "code",
      "metadata": {
        "id": "UKsv6LVN1VDU"
      },
      "source": [
        "text = []\n",
        "date = []"
      ],
      "execution_count": null,
      "outputs": []
    },
    {
      "cell_type": "code",
      "metadata": {
        "id": "axPrMahA1VDV"
      },
      "source": [
        "i=0\n",
        "for item in dfta :\n",
        "    if i== 0 :\n",
        "        text.append(item)\n",
        "        i+= 1\n",
        "    else :\n",
        "        date.append(item)\n",
        "        i-= 1\n",
        "    "
      ],
      "execution_count": null,
      "outputs": []
    },
    {
      "cell_type": "code",
      "metadata": {
        "id": "FKNv95WA1VDZ",
        "outputId": "9963fd36-bd5b-4f67-eca9-4b2e563c0a09"
      },
      "source": [
        "len(date)"
      ],
      "execution_count": null,
      "outputs": [
        {
          "data": {
            "text/plain": [
              "1270"
            ]
          },
          "execution_count": 28,
          "metadata": {},
          "output_type": "execute_result"
        }
      ]
    },
    {
      "cell_type": "code",
      "metadata": {
        "id": "JTNjLchw1VDe",
        "outputId": "266d536c-bacf-4de8-eb3f-e8d6deb7fbe4"
      },
      "source": [
        "len(text)"
      ],
      "execution_count": null,
      "outputs": [
        {
          "data": {
            "text/plain": [
              "1270"
            ]
          },
          "execution_count": 29,
          "metadata": {},
          "output_type": "execute_result"
        }
      ]
    },
    {
      "cell_type": "code",
      "metadata": {
        "id": "ETu282fc1VDf"
      },
      "source": [
        "d = {'text' : text, 'date': date}\n",
        "df = pd.DataFrame(data=d)"
      ],
      "execution_count": null,
      "outputs": []
    },
    {
      "cell_type": "code",
      "metadata": {
        "id": "7aO5jNb-1VDg",
        "outputId": "9861d2a1-62e6-4016-dc44-a8b7bfb0b749"
      },
      "source": [
        "df.head()"
      ],
      "execution_count": null,
      "outputs": [
        {
          "data": {
            "text/html": [
              "<div>\n",
              "<style scoped>\n",
              "    .dataframe tbody tr th:only-of-type {\n",
              "        vertical-align: middle;\n",
              "    }\n",
              "\n",
              "    .dataframe tbody tr th {\n",
              "        vertical-align: top;\n",
              "    }\n",
              "\n",
              "    .dataframe thead th {\n",
              "        text-align: right;\n",
              "    }\n",
              "</style>\n",
              "<table border=\"1\" class=\"dataframe\">\n",
              "  <thead>\n",
              "    <tr style=\"text-align: right;\">\n",
              "      <th></th>\n",
              "      <th>text</th>\n",
              "      <th>date</th>\n",
              "    </tr>\n",
              "  </thead>\n",
              "  <tbody>\n",
              "    <tr>\n",
              "      <th>0</th>\n",
              "      <td>Internet Computer (ICP): Recent Developments, ...</td>\n",
              "      <td>Jun 20, 2021</td>\n",
              "    </tr>\n",
              "    <tr>\n",
              "      <th>1</th>\n",
              "      <td>Theta Fuel (TFUEL): Recent Developments, Commu...</td>\n",
              "      <td>4 hours ago</td>\n",
              "    </tr>\n",
              "    <tr>\n",
              "      <th>2</th>\n",
              "      <td>U.S. House panel to vote Wednesday on bills ta...</td>\n",
              "      <td>Jun 17, 2021</td>\n",
              "    </tr>\n",
              "    <tr>\n",
              "      <th>3</th>\n",
              "      <td>Google's cloud taps AMD for new service as chi...</td>\n",
              "      <td>Jun 17, 2021</td>\n",
              "    </tr>\n",
              "    <tr>\n",
              "      <th>4</th>\n",
              "      <td>PayPal, Salesforce contribute to TRM Labs’ $14...</td>\n",
              "      <td>Jun 17, 2021</td>\n",
              "    </tr>\n",
              "  </tbody>\n",
              "</table>\n",
              "</div>"
            ],
            "text/plain": [
              "                                                text          date\n",
              "0  Internet Computer (ICP): Recent Developments, ...  Jun 20, 2021\n",
              "1  Theta Fuel (TFUEL): Recent Developments, Commu...   4 hours ago\n",
              "2  U.S. House panel to vote Wednesday on bills ta...  Jun 17, 2021\n",
              "3  Google's cloud taps AMD for new service as chi...  Jun 17, 2021\n",
              "4  PayPal, Salesforce contribute to TRM Labs’ $14...  Jun 17, 2021"
            ]
          },
          "execution_count": 31,
          "metadata": {},
          "output_type": "execute_result"
        }
      ]
    },
    {
      "cell_type": "code",
      "metadata": {
        "id": "f6vfVRdG1VDi"
      },
      "source": [
        "df = df.drop([1])"
      ],
      "execution_count": null,
      "outputs": []
    },
    {
      "cell_type": "code",
      "metadata": {
        "id": "12Jl1oah1VDj"
      },
      "source": [
        "df.to_excel('NewsHeadline_GOOGLE.xlsx', index = False)"
      ],
      "execution_count": null,
      "outputs": []
    },
    {
      "cell_type": "code",
      "metadata": {
        "id": "E0tjy9KX1VDk"
      },
      "source": [
        "import pandas as pd"
      ],
      "execution_count": null,
      "outputs": []
    },
    {
      "cell_type": "code",
      "metadata": {
        "id": "uimW6oTm1VDm"
      },
      "source": [
        "df['date'] = pd.to_datetime(df['date'], format = '%b %d, %Y')"
      ],
      "execution_count": null,
      "outputs": []
    },
    {
      "cell_type": "code",
      "metadata": {
        "id": "xSbX2LON1VDp"
      },
      "source": [
        "test = df['date'][0]"
      ],
      "execution_count": null,
      "outputs": []
    },
    {
      "cell_type": "code",
      "metadata": {
        "id": "aPUPlBG51VDq",
        "outputId": "e0f50f90-7a15-453a-859f-aac4c61fa12e"
      },
      "source": [
        "test"
      ],
      "execution_count": null,
      "outputs": [
        {
          "data": {
            "text/plain": [
              "'Jun 20, 2021'"
            ]
          },
          "execution_count": 48,
          "metadata": {},
          "output_type": "execute_result"
        }
      ]
    },
    {
      "cell_type": "code",
      "metadata": {
        "id": "tvTOWsz81VDr",
        "outputId": "df51dbad-ae92-4024-bbaf-3673641e3a7f"
      },
      "source": [
        "pd.to_datetime(test, format = '%b %d, %Y')"
      ],
      "execution_count": null,
      "outputs": [
        {
          "data": {
            "text/plain": [
              "Timestamp('2021-06-20 00:00:00')"
            ]
          },
          "execution_count": 49,
          "metadata": {},
          "output_type": "execute_result"
        }
      ]
    },
    {
      "cell_type": "code",
      "metadata": {
        "id": "jP8XJmRM1VDt"
      },
      "source": [
        "df.to_excel('NewsHeadline_GOOGLE_1.xlsx', index = False)"
      ],
      "execution_count": null,
      "outputs": []
    }
  ]
}