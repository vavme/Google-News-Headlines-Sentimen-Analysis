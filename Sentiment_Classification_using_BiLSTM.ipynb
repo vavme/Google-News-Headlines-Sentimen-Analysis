{
  "nbformat": 4,
  "nbformat_minor": 0,
  "metadata": {
    "colab": {
      "name": "Sentiment Classification using BiLSTM",
      "provenance": [],
      "collapsed_sections": [],
      "include_colab_link": true
    },
    "kernelspec": {
      "display_name": "Python 3",
      "language": "python",
      "name": "python3"
    },
    "language_info": {
      "codemirror_mode": {
        "name": "ipython",
        "version": 3
      },
      "file_extension": ".py",
      "mimetype": "text/x-python",
      "name": "python",
      "nbconvert_exporter": "python",
      "pygments_lexer": "ipython3",
      "version": "3.8.5"
    }
  },
  "cells": [
    {
      "cell_type": "markdown",
      "metadata": {
        "id": "view-in-github",
        "colab_type": "text"
      },
      "source": [
        "<a href=\"https://colab.research.google.com/github/vavme/Google-News-Headlines-Sentimen-Analysis/blob/main/Sentiment_Classification_using_BiLSTM.ipynb\" target=\"_parent\"><img src=\"https://colab.research.google.com/assets/colab-badge.svg\" alt=\"Open In Colab\"/></a>"
      ]
    },
    {
      "cell_type": "code",
      "metadata": {
        "id": "Ty1DNs29AXg_"
      },
      "source": [
        "import pandas as pd"
      ],
      "execution_count": null,
      "outputs": []
    },
    {
      "cell_type": "code",
      "metadata": {
        "id": "9-flqnkkAXhF"
      },
      "source": [
        "from sklearn.model_selection import train_test_split"
      ],
      "execution_count": null,
      "outputs": []
    },
    {
      "cell_type": "code",
      "metadata": {
        "id": "x3xK6n6vAXhI"
      },
      "source": [
        "import numpy as np"
      ],
      "execution_count": null,
      "outputs": []
    },
    {
      "cell_type": "code",
      "metadata": {
        "id": "K_FR8WDLAXhJ"
      },
      "source": [
        "df = pd.read_excel('NewsHeadline_GOOGLE_1.xlsx')"
      ],
      "execution_count": null,
      "outputs": []
    },
    {
      "cell_type": "code",
      "metadata": {
        "id": "pitWEfBtwRzQ"
      },
      "source": [
        "df.head(15)"
      ],
      "execution_count": null,
      "outputs": []
    },
    {
      "cell_type": "code",
      "metadata": {
        "id": "rHmPT8CKAXhM"
      },
      "source": [
        "df = df.sort_values('date',ascending=False).reset_index(drop=True)"
      ],
      "execution_count": null,
      "outputs": []
    },
    {
      "cell_type": "code",
      "metadata": {
        "id": "gmYwEf8nAXhN",
        "scrolled": true
      },
      "source": [
        "df = df.drop_duplicates()"
      ],
      "execution_count": null,
      "outputs": []
    },
    {
      "cell_type": "code",
      "metadata": {
        "id": "xpCS40K0AXhS"
      },
      "source": [
        "df = df[df['text'].str.contains(\"google|GOOGLE|Google\")].reset_index(drop=True)"
      ],
      "execution_count": null,
      "outputs": []
    },
    {
      "cell_type": "code",
      "metadata": {
        "id": "srcYJEmfAXhT"
      },
      "source": [
        "#Checkpoint\n",
        "df = data.copy()\n",
        "data = df.copy()"
      ],
      "execution_count": null,
      "outputs": []
    },
    {
      "cell_type": "code",
      "metadata": {
        "id": "26N_1GW1AXhV"
      },
      "source": [
        "import re\n",
        "import nltk\n",
        "import matplotlib.pyplot as plt\n",
        "from nltk.corpus import stopwords\n",
        "from nltk.tokenize import word_tokenize"
      ],
      "execution_count": null,
      "outputs": []
    },
    {
      "cell_type": "code",
      "metadata": {
        "id": "TrOkji9wAXhW"
      },
      "source": [
        "import datetime"
      ],
      "execution_count": null,
      "outputs": []
    },
    {
      "cell_type": "code",
      "metadata": {
        "id": "_LWqOJ7zAXhX"
      },
      "source": [
        "nltk.download()"
      ],
      "execution_count": null,
      "outputs": []
    },
    {
      "cell_type": "code",
      "metadata": {
        "colab": {
          "base_uri": "https://localhost:8080/"
        },
        "id": "UhFHSXPNAXhY",
        "outputId": "a8f7c3aa-9df3-4240-db8c-b01017a4b348"
      },
      "source": [
        "from nltk.sentiment.vader import SentimentIntensityAnalyzer"
      ],
      "execution_count": null,
      "outputs": [
        {
          "output_type": "stream",
          "name": "stderr",
          "text": [
            "/usr/local/lib/python3.7/dist-packages/nltk/twitter/__init__.py:20: UserWarning: The twython library has not been installed. Some functionality from the twitter package will not be available.\n",
            "  warnings.warn(\"The twython library has not been installed. \"\n"
          ]
        }
      ]
    },
    {
      "cell_type": "code",
      "metadata": {
        "id": "BlGrKLADAXhc"
      },
      "source": [
        "vader = SentimentIntensityAnalyzer()"
      ],
      "execution_count": null,
      "outputs": []
    },
    {
      "cell_type": "code",
      "metadata": {
        "id": "t9GwYq8BAXhg"
      },
      "source": [
        "# factory = StemmerFactory()\n",
        "# stemmer = factory.create_stemmer()\n",
        "\n",
        "porter = PorterStemmer()\n",
        "stemmer = porter.stem\n",
        "REPLACE_BY_SPACE_RE = re.compile('[/(){}\\[\\]\\|@,;]')\n",
        "BAD_SYMBOLS_RE = re.compile('[^0-9a-z #+_]')\n",
        "REMOVE_NUM = re.compile('[\\d+]')\n",
        "STOPWORDS = set(stopwords.words('english'))\n",
        "\n",
        "def clean_text(text):\n",
        "    text = text.lower() \n",
        "    text = REPLACE_BY_SPACE_RE.sub(' ', text) \n",
        "    text = REMOVE_NUM.sub('', text)\n",
        "    text = BAD_SYMBOLS_RE.sub('', text) \n",
        "    text = ' '.join(word for word in text.split() if word not in STOPWORDS) \n",
        "    text = ' '.join([stemmer.stem(word) for word in text.split()])\n",
        "    \n",
        "    return text"
      ],
      "execution_count": null,
      "outputs": []
    },
    {
      "cell_type": "code",
      "metadata": {
        "id": "evFAEo5TAXhh"
      },
      "source": [
        "df['text'] = df['text'].apply(clean_text)"
      ],
      "execution_count": null,
      "outputs": []
    },
    {
      "cell_type": "code",
      "metadata": {
        "id": "Oq-in7fKAXhi"
      },
      "source": [
        "df = df.drop_duplicates()"
      ],
      "execution_count": null,
      "outputs": []
    },
    {
      "cell_type": "code",
      "metadata": {
        "id": "FdLUvbtzv9ga"
      },
      "source": [
        "#save file\n",
        "df.to_excel('NewsHeadline_GOOGLE_2_cleaned.xlsx', index = False)"
      ],
      "execution_count": null,
      "outputs": []
    },
    {
      "cell_type": "code",
      "metadata": {
        "id": "fc2Lo1I3AXhj"
      },
      "source": [
        "skor = [vader.polarity_scores(text) for text in df['text']]\n",
        "df_skor = pd.DataFrame(skor)\n",
        "df = df.join(df_skor)"
      ],
      "execution_count": null,
      "outputs": []
    },
    {
      "cell_type": "code",
      "metadata": {
        "id": "s0E7VOj9AXhk",
        "outputId": "6f5b0069-cb16-408f-ea08-caff72a3d59e"
      },
      "source": [
        "df['week'] = df['date'].dt.week"
      ],
      "execution_count": null,
      "outputs": [
        {
          "name": "stderr",
          "output_type": "stream",
          "text": [
            "<ipython-input-162-f4f191163118>:1: FutureWarning: Series.dt.weekofyear and Series.dt.week have been deprecated.  Please use Series.dt.isocalendar().week instead.\n",
            "  df['week'] = df['date'].dt.week\n"
          ]
        }
      ]
    },
    {
      "cell_type": "code",
      "metadata": {
        "id": "dqAicDe7AXhk"
      },
      "source": [
        "df['month'] = df['date'].dt.month\n",
        "df['year'] = df['date'].dt.year"
      ],
      "execution_count": null,
      "outputs": []
    },
    {
      "cell_type": "code",
      "metadata": {
        "id": "TSGb8OcewiQg"
      },
      "source": [
        "df = df[df['year'] >= 2010]\n",
        "df_1 = df[df['year'] == 2021]"
      ],
      "execution_count": null,
      "outputs": []
    },
    {
      "cell_type": "code",
      "metadata": {
        "id": "p51J52yOAXhn"
      },
      "source": [
        "import matplotlib.pyplot as plt\n",
        "plt.style.use(\"fivethirtyeight\")\n",
        "\n",
        "#See weekly sentiment plot 2021\n",
        "mean_c = df_1.groupby( 'week').mean()\n",
        "mean_c = mean_c.unstack(level=-1)\n",
        "mean_c = mean_c['compound']\n",
        "mean_c.plot.bar()"
      ],
      "execution_count": null,
      "outputs": []
    },
    {
      "cell_type": "code",
      "metadata": {
        "id": "fnL5_8OiAXho"
      },
      "source": [
        "#checkpoint\n",
        "data_1 = df.copy()\n",
        "df = data_1.copy()"
      ],
      "execution_count": null,
      "outputs": []
    },
    {
      "cell_type": "code",
      "metadata": {
        "id": "IZzjddt-AXhp"
      },
      "source": [
        "def sentimen_by_compound(skor) :\n",
        "    if skor > 0 :\n",
        "        return 'positif'\n",
        "    elif skor < 0 :\n",
        "        return 'negatif'\n",
        "    else :\n",
        "        return 'netral'"
      ],
      "execution_count": null,
      "outputs": []
    },
    {
      "cell_type": "code",
      "metadata": {
        "id": "Xpo614ahAXhp"
      },
      "source": [
        "df['sentimen'] = df['compound'].apply(sentimen_by_compound)"
      ],
      "execution_count": null,
      "outputs": []
    },
    {
      "cell_type": "code",
      "metadata": {
        "id": "FGwMl7hKAXhq",
        "scrolled": true
      },
      "source": [
        "df.rename(columns={0: 'sentimen'}, inplace=True)"
      ],
      "execution_count": null,
      "outputs": []
    },
    {
      "cell_type": "code",
      "metadata": {
        "id": "VjAEwym8AXhr"
      },
      "source": [
        "df.to_csv('NewsHeadline_GOOGLE_3_sw_with_polarity2.csv', index = False)"
      ],
      "execution_count": null,
      "outputs": []
    },
    {
      "cell_type": "code",
      "metadata": {
        "id": "Z9iWoPD1AxGj"
      },
      "source": [
        "df = pd.read_csv('NewsHeadline_GOOGLE_3_sw_with_polarity2.csv')"
      ],
      "execution_count": null,
      "outputs": []
    },
    {
      "cell_type": "code",
      "metadata": {
        "id": "06cKLuODAXhr"
      },
      "source": [
        "#checkpoint\n",
        "data_2 = df.copy()"
      ],
      "execution_count": null,
      "outputs": []
    },
    {
      "cell_type": "code",
      "metadata": {
        "id": "zr5KFulIAXhs"
      },
      "source": [
        "df = data_2.copy()"
      ],
      "execution_count": null,
      "outputs": []
    },
    {
      "cell_type": "code",
      "metadata": {
        "id": "5zA7fsgrzt9r"
      },
      "source": [
        "vocab_size = 1000\n",
        "max_length = 25\n",
        "trunc_type = 'post'\n",
        "padding_type = 'post'\n",
        "oov_tok = '<OOV>'"
      ],
      "execution_count": null,
      "outputs": []
    },
    {
      "cell_type": "code",
      "metadata": {
        "colab": {
          "base_uri": "https://localhost:8080/"
        },
        "id": "Y9NsiytKxgA-",
        "outputId": "ce0fdfcd-b35f-427e-a88a-2fc50400f34e"
      },
      "source": [
        "dfs = df[['text','sentimen']].copy()\n",
        "dfs = dfs.sample(frac=1, random_state=123)\n",
        "\n",
        "X_train_val, X_tests, y_train_val, y_tests = train_test_split(dfs['text'], dfs['sentimen'],\n",
        "                                                    test_size = 0.1, random_state = 123)\n",
        "size = len(np.unique(y_tests))\n",
        "if size == 3:\n",
        "   pass\n",
        "else : \n",
        "    print('Terdapat label yang tidak masuk dalam data_train')\n",
        "print(X_train_val.shape,X_tests.shape)\n",
        "print(y_train_val.shape,y_tests.shape)"
      ],
      "execution_count": null,
      "outputs": [
        {
          "output_type": "stream",
          "name": "stdout",
          "text": [
            "(521,) (58,)\n",
            "(521,) (58,)\n"
          ]
        }
      ]
    },
    {
      "cell_type": "code",
      "metadata": {
        "colab": {
          "base_uri": "https://localhost:8080/"
        },
        "id": "xhIoNFQ6x-A7",
        "outputId": "8e19e9f7-3901-4dac-cab0-8b09090fd7cf"
      },
      "source": [
        "X_trains, X_vals, y_trains, y_vals = train_test_split(X_train_val, y_train_val,\n",
        "                                                    test_size = 0.1, random_state = 123)\n",
        "size = len(np.unique(y_trains))\n",
        "if size == 3:\n",
        "   pass\n",
        "else : \n",
        "    print('Terdapat label yang tidak masuk dalam data_train')\n",
        "print(X_trains.shape,X_vals.shape)\n",
        "print(y_trains.shape,y_vals.shape)"
      ],
      "execution_count": null,
      "outputs": [
        {
          "output_type": "stream",
          "name": "stdout",
          "text": [
            "(468,) (53,)\n",
            "(468,) (53,)\n"
          ]
        }
      ]
    },
    {
      "cell_type": "code",
      "metadata": {
        "colab": {
          "base_uri": "https://localhost:8080/"
        },
        "id": "zayW007-k3_r",
        "outputId": "6501b47b-8083-43ec-fa57-8a4ae41d1747"
      },
      "source": [
        "y_trains.value_counts()"
      ],
      "execution_count": null,
      "outputs": [
        {
          "output_type": "execute_result",
          "data": {
            "text/plain": [
              "netral     271\n",
              "positif    106\n",
              "negatif     91\n",
              "Name: sentimen, dtype: int64"
            ]
          },
          "metadata": {},
          "execution_count": 15
        }
      ]
    },
    {
      "cell_type": "code",
      "metadata": {
        "id": "mOcqFwOkDodt"
      },
      "source": [
        "import tensorflow as tf\n",
        "from tensorflow.keras.preprocessing.text import Tokenizer\n",
        "from tensorflow.keras.preprocessing.sequence import pad_sequences\n",
        "from sklearn.preprocessing import OneHotEncoder\n",
        "from sklearn.preprocessing import LabelEncoder"
      ],
      "execution_count": null,
      "outputs": []
    },
    {
      "cell_type": "code",
      "metadata": {
        "colab": {
          "base_uri": "https://localhost:8080/"
        },
        "id": "jKlnP_k0AXhs",
        "outputId": "bbd6cad4-08ce-4009-ee5d-2b36f0832192"
      },
      "source": [
        "#Create Data Train, Data Test and Data Validation\n",
        "X_test = X_tests.copy()\n",
        "y_test = y_tests.copy()\n",
        "\n",
        "X_train = X_trains.copy()\n",
        "y_train = y_trains.copy()\n",
        "\n",
        "X_val = X_vals.copy()\n",
        "y_val = y_vals.copy()\n",
        "\n",
        "tokenizer = Tokenizer(num_words=vocab_size, oov_token='<OOV>')\n",
        "tokenizer.fit_on_texts(X_train)\n",
        "\n",
        "train_seq = tokenizer.texts_to_sequences(X_train)\n",
        "train_padded = pad_sequences(train_seq, maxlen=max_length, padding=padding_type, truncating=trunc_type)\n",
        "\n",
        "validation_seq = tokenizer.texts_to_sequences(X_val)\n",
        "validation_padded = pad_sequences(validation_seq, maxlen=max_length, padding=padding_type, truncating=trunc_type)\n",
        "print('Shape of data tensor:', train_padded.shape)\n",
        "print('Shape of data tensor:', validation_padded.shape)\n",
        "\n",
        "\n",
        "y_train = y_train.values\n",
        "y_val = y_val.values\n",
        "y_train = y_train.reshape(-1,1)\n",
        "y_val = y_val.reshape(-1,1)\n",
        "\n",
        "\n",
        "encode = OneHotEncoder()\n",
        "# encode = LabelEncoder()\n",
        "training_labels = encode.fit_transform(y_train)\n",
        "validation_labels = encode.transform(y_val)\n",
        "\n",
        "from imblearn.over_sampling import RandomOverSampler\n",
        "ros = RandomOverSampler(random_state=42)\n",
        "train_padded, training_labels = ros.fit_resample(train_padded, training_labels)\n",
        "\n",
        "print(train_padded.shape)\n",
        "print(training_labels.shape)\n",
        "print(validation_padded.shape)\n",
        "print(validation_labels.shape)\n",
        "\n",
        "try :\n",
        "  validation_labels = validation_labels.toarray()\n",
        "  training_labels = training_labels.toarray()\n",
        "except :\n",
        "  pass\n",
        "\n",
        "print(type(train_padded))\n",
        "print(type(validation_labels))\n",
        "print(type(training_labels))\n",
        "print(type(validation_padded))"
      ],
      "execution_count": null,
      "outputs": [
        {
          "output_type": "stream",
          "name": "stdout",
          "text": [
            "Shape of data tensor: (468, 25)\n",
            "Shape of data tensor: (53, 25)\n",
            "(813, 25)\n",
            "(813, 3)\n",
            "(53, 25)\n",
            "(53, 3)\n",
            "<class 'numpy.ndarray'>\n",
            "<class 'numpy.ndarray'>\n",
            "<class 'numpy.ndarray'>\n",
            "<class 'numpy.ndarray'>\n"
          ]
        },
        {
          "output_type": "stream",
          "name": "stderr",
          "text": [
            "/usr/local/lib/python3.7/dist-packages/sklearn/externals/six.py:31: FutureWarning: The module is deprecated in version 0.21 and will be removed in version 0.23 since we've dropped support for Python 2.7. Please rely on the official version of six (https://pypi.org/project/six/).\n",
            "  \"(https://pypi.org/project/six/).\", FutureWarning)\n",
            "/usr/local/lib/python3.7/dist-packages/sklearn/utils/deprecation.py:144: FutureWarning: The sklearn.neighbors.base module is  deprecated in version 0.22 and will be removed in version 0.24. The corresponding classes / functions should instead be imported from sklearn.neighbors. Anything that cannot be imported from sklearn.neighbors is now part of the private API.\n",
            "  warnings.warn(message, FutureWarning)\n",
            "/usr/local/lib/python3.7/dist-packages/sklearn/utils/validation.py:760: DataConversionWarning: A column-vector y was passed when a 1d array was expected. Please change the shape of y to (n_samples, ), for example using ravel().\n",
            "  y = column_or_1d(y, warn=True)\n",
            "/usr/local/lib/python3.7/dist-packages/sklearn/utils/deprecation.py:87: FutureWarning: Function safe_indexing is deprecated; safe_indexing is deprecated in version 0.22 and will be removed in version 0.24.\n",
            "  warnings.warn(msg, category=FutureWarning)\n"
          ]
        }
      ]
    },
    {
      "cell_type": "code",
      "metadata": {
        "colab": {
          "base_uri": "https://localhost:8080/"
        },
        "id": "3k0qiRHBkpFG",
        "outputId": "063266b5-42a1-4a51-df1a-bc94366a0376"
      },
      "source": [
        "X_train"
      ],
      "execution_count": null,
      "outputs": [
        {
          "output_type": "execute_result",
          "data": {
            "text/plain": [
              "293                     latest cloud pal salesforc googl\n",
              "551                            googl goog earn preview q\n",
              "269               googl start sell audiobook take amazon\n",
              "459          googl propel nasdaq anoth record high close\n",
              "173         googl charg smartphon maker googl play europ\n",
              "                             ...                        \n",
              "140    googl worker support propos us law curb mandat...\n",
              "74            googl join hedera hashgraph govern council\n",
              "564            googl pledg quest tighter privaci control\n",
              "317    lithuanian man plead guilti defraud facebook g...\n",
              "33     justic depart give judg big googl document req...\n",
              "Name: text, Length: 468, dtype: object"
            ]
          },
          "metadata": {},
          "execution_count": 20
        }
      ]
    },
    {
      "cell_type": "code",
      "metadata": {
        "id": "183UHVSrylp2"
      },
      "source": [
        "X_test = tokenizer.texts_to_sequences(X_test)\n",
        "X_test = pad_sequences(X_test, maxlen=max_length, padding=padding_type, truncating=trunc_type)\n",
        "\n",
        "y_test = y_test.values\n",
        "y_test = y_test.reshape(-1,1)\n",
        "y_test = encode.transform(y_test)\n",
        "y_test = y_test.toarray()"
      ],
      "execution_count": null,
      "outputs": []
    },
    {
      "cell_type": "code",
      "metadata": {
        "id": "1JZGaQnY7ECx"
      },
      "source": [
        "from sklearn.metrics import accuracy_score, precision_score, recall_score, f1_score\n",
        "import matplotlib.pyplot as plt\n",
        "from sklearn.metrics import confusion_matrix"
      ],
      "execution_count": null,
      "outputs": []
    },
    {
      "cell_type": "code",
      "metadata": {
        "id": "moGRZWovAXh7",
        "scrolled": true
      },
      "source": [
        "#Model Final\n",
        "def Modelling(embed_dim, layer, vocab_size=1000, validation_data = (validation_padded, validation_labels),\n",
        "              X_test = X_test, y_test = y_test) :\n",
        "  tf.keras.backend.clear_session()\n",
        "  embedding_dim = embed_dim\n",
        "  model =[]\n",
        "  model = tf.keras.Sequential([\n",
        "      tf.keras.layers.Embedding(vocab_size, embedding_dim, input_length=max_length),\n",
        "      layer,\n",
        "      tf.keras.layers.Dense(3, activation='softmax')\n",
        "  ])\n",
        "  summary = model.summary()\n",
        "  model.compile(loss='categorical_crossentropy', optimizer='adam', metrics=['accuracy'])\n",
        "  epochs = 150\n",
        "\n",
        "  history = model.fit(train_padded, training_labels, shuffle=True,\n",
        "                    epochs=epochs, validation_data=validation_data, verbose=2)\n",
        "  model_final = tf.keras.models.clone_model(model)\n",
        "  \n",
        "  y_pred = model.predict(X_test)\n",
        "  y_pred1 = encode.inverse_transform(y_pred)\n",
        "  y_pred1 = list(np.concatenate(y_pred1).flat)\n",
        "\n",
        "  y_test1 = encode.inverse_transform(y_test)\n",
        "  y_test1 = list(np.concatenate(y_test1).flat)\n",
        "  cfm = confusion_matrix(y_test1, y_pred1, labels=['negatif', 'netral', 'positif'])\n",
        "\n",
        "  print('Accuracy : {:.2f}%'.format(accuracy_score(y_test1, y_pred1)*100))\n",
        "  print('Precision: {:.2f}%'.format(precision_score(y_test1, y_pred1, average=\"micro\")*100))\n",
        "  print('Recall: {:.2f}%'.format(recall_score(y_test1, y_pred1, average=\"micro\")*100))\n",
        "  print('F1-Score(m): {:.2f}%'.format(f1_score(y_test1, y_pred1, average=\"micro\")*100))\n",
        "  print('F1-Score(M) : {:.2f}%'.format(f1_score(y_test1, y_pred1, average='macro')*100))\n",
        "  print('F1-Score(w) : {:.2f}%'.format(f1_score(y_test1, y_pred1, average='weighted')*100))\n",
        "  return  summary, history, cfm, model_final"
      ],
      "execution_count": null,
      "outputs": []
    },
    {
      "cell_type": "code",
      "metadata": {
        "colab": {
          "base_uri": "https://localhost:8080/"
        },
        "id": "IZ9AA6Jo3JsK",
        "outputId": "e9296758-371a-4ddd-8dd6-7e0c3b66cd8b"
      },
      "source": [
        "sum_1, hist_1, cfm1, model_1 = Modelling(embed_dim = 16,\n",
        "                                  layer = tf.keras.layers.LSTM(32, activation='tanh'))"
      ],
      "execution_count": null,
      "outputs": [
        {
          "name": "stdout",
          "output_type": "stream",
          "text": [
            "Model: \"sequential\"\n",
            "_________________________________________________________________\n",
            "Layer (type)                 Output Shape              Param #   \n",
            "=================================================================\n",
            "embedding (Embedding)        (None, 25, 16)            16000     \n",
            "_________________________________________________________________\n",
            "lstm (LSTM)                  (None, 32)                6272      \n",
            "_________________________________________________________________\n",
            "dense (Dense)                (None, 3)                 99        \n",
            "=================================================================\n",
            "Total params: 22,371\n",
            "Trainable params: 22,371\n",
            "Non-trainable params: 0\n",
            "_________________________________________________________________\n",
            "Accuracy : 75.86%\n",
            "Precision: 75.86%\n",
            "Recall: 75.86%\n",
            "F1-Score(m): 75.86%\n",
            "F1-Score(M) : 74.41%\n",
            "F1-Score(w) : 76.64%\n"
          ]
        }
      ]
    },
    {
      "cell_type": "code",
      "metadata": {
        "colab": {
          "base_uri": "https://localhost:8080/"
        },
        "id": "-QyFQstFD7jB",
        "outputId": "b3c23641-5955-4868-f315-2f8ee71302a1"
      },
      "source": [
        "sum_2, hist_2, cfm_2, model_2 = Modelling(embed_dim = 16,\n",
        "                                  layer = tf.keras.layers.LSTM(64, activation='tanh'))"
      ],
      "execution_count": null,
      "outputs": [
        {
          "name": "stdout",
          "output_type": "stream",
          "text": [
            "Model: \"sequential\"\n",
            "_________________________________________________________________\n",
            "Layer (type)                 Output Shape              Param #   \n",
            "=================================================================\n",
            "embedding (Embedding)        (None, 25, 16)            16000     \n",
            "_________________________________________________________________\n",
            "lstm (LSTM)                  (None, 64)                20736     \n",
            "_________________________________________________________________\n",
            "dense (Dense)                (None, 3)                 195       \n",
            "=================================================================\n",
            "Total params: 36,931\n",
            "Trainable params: 36,931\n",
            "Non-trainable params: 0\n",
            "_________________________________________________________________\n",
            "Accuracy : 84.48%\n",
            "Precision: 84.48%\n",
            "Recall: 84.48%\n",
            "F1-Score(m): 84.48%\n",
            "F1-Score(M) : 82.50%\n",
            "F1-Score(w) : 84.76%\n"
          ]
        }
      ]
    },
    {
      "cell_type": "code",
      "metadata": {
        "colab": {
          "base_uri": "https://localhost:8080/"
        },
        "id": "ZYHtYdaxNYz6",
        "outputId": "b160233f-d608-47b2-a8e4-3377610e036b"
      },
      "source": [
        "sum_3, hist_3, cfm_3, model_3 = Modelling(embed_dim =16,\n",
        "                                  layer = tf.keras.layers.LSTM(128, activation='tanh'))\n"
      ],
      "execution_count": null,
      "outputs": [
        {
          "name": "stdout",
          "output_type": "stream",
          "text": [
            "Model: \"sequential\"\n",
            "_________________________________________________________________\n",
            "Layer (type)                 Output Shape              Param #   \n",
            "=================================================================\n",
            "embedding (Embedding)        (None, 25, 16)            16000     \n",
            "_________________________________________________________________\n",
            "lstm (LSTM)                  (None, 128)               74240     \n",
            "_________________________________________________________________\n",
            "dense (Dense)                (None, 3)                 387       \n",
            "=================================================================\n",
            "Total params: 90,627\n",
            "Trainable params: 90,627\n",
            "Non-trainable params: 0\n",
            "_________________________________________________________________\n",
            "Accuracy : 77.59%\n",
            "Precision: 77.59%\n",
            "Recall: 77.59%\n",
            "F1-Score(m): 77.59%\n",
            "F1-Score(M) : 73.31%\n",
            "F1-Score(w) : 77.79%\n"
          ]
        }
      ]
    },
    {
      "cell_type": "code",
      "metadata": {
        "colab": {
          "base_uri": "https://localhost:8080/"
        },
        "id": "bBylce-LPSP2",
        "outputId": "9a28b7f8-3fbc-4b38-ae26-5d8f72bc0505"
      },
      "source": [
        "sum_4, hist_4, cfm_4, model_4 = Modelling(embed_dim = 32,\n",
        "                                  layer = tf.keras.layers.LSTM(32, activation='tanh'))"
      ],
      "execution_count": null,
      "outputs": [
        {
          "name": "stdout",
          "output_type": "stream",
          "text": [
            "Model: \"sequential\"\n",
            "_________________________________________________________________\n",
            "Layer (type)                 Output Shape              Param #   \n",
            "=================================================================\n",
            "embedding (Embedding)        (None, 25, 32)            32000     \n",
            "_________________________________________________________________\n",
            "lstm (LSTM)                  (None, 32)                8320      \n",
            "_________________________________________________________________\n",
            "dense (Dense)                (None, 3)                 99        \n",
            "=================================================================\n",
            "Total params: 40,419\n",
            "Trainable params: 40,419\n",
            "Non-trainable params: 0\n",
            "_________________________________________________________________\n",
            "Accuracy : 84.48%\n",
            "Precision: 84.48%\n",
            "Recall: 84.48%\n",
            "F1-Score(m): 84.48%\n",
            "F1-Score(M) : 81.11%\n",
            "F1-Score(w) : 84.28%\n"
          ]
        }
      ]
    },
    {
      "cell_type": "code",
      "metadata": {
        "colab": {
          "base_uri": "https://localhost:8080/"
        },
        "id": "b3uew5BmPUJh",
        "outputId": "7bdd6d08-efa6-449e-efb8-83d0a9d774fa"
      },
      "source": [
        "sum_5, hist_5, cfm_5, model_5 = Modelling(embed_dim = 32,\n",
        "                                  layer = tf.keras.layers.LSTM(64, activation='tanh'))"
      ],
      "execution_count": null,
      "outputs": [
        {
          "name": "stdout",
          "output_type": "stream",
          "text": [
            "Model: \"sequential\"\n",
            "_________________________________________________________________\n",
            "Layer (type)                 Output Shape              Param #   \n",
            "=================================================================\n",
            "embedding (Embedding)        (None, 25, 32)            32000     \n",
            "_________________________________________________________________\n",
            "lstm (LSTM)                  (None, 64)                24832     \n",
            "_________________________________________________________________\n",
            "dense (Dense)                (None, 3)                 195       \n",
            "=================================================================\n",
            "Total params: 57,027\n",
            "Trainable params: 57,027\n",
            "Non-trainable params: 0\n",
            "_________________________________________________________________\n",
            "Accuracy : 87.93%\n",
            "Precision: 87.93%\n",
            "Recall: 87.93%\n",
            "F1-Score(m): 87.93%\n",
            "F1-Score(M) : 86.71%\n",
            "F1-Score(w) : 88.02%\n"
          ]
        }
      ]
    },
    {
      "cell_type": "code",
      "metadata": {
        "colab": {
          "base_uri": "https://localhost:8080/"
        },
        "id": "rMBblsaNPUi7",
        "outputId": "85df953c-0ca9-4992-bffe-be0744a67110"
      },
      "source": [
        "sum_6, hist_6, cfm_6, model_6 = Modelling(embed_dim = 32,\n",
        "                                  layer = tf.keras.layers.LSTM(128, activation='tanh'))"
      ],
      "execution_count": null,
      "outputs": [
        {
          "name": "stdout",
          "output_type": "stream",
          "text": [
            "Model: \"sequential\"\n",
            "_________________________________________________________________\n",
            "Layer (type)                 Output Shape              Param #   \n",
            "=================================================================\n",
            "embedding (Embedding)        (None, 25, 32)            32000     \n",
            "_________________________________________________________________\n",
            "lstm (LSTM)                  (None, 128)               82432     \n",
            "_________________________________________________________________\n",
            "dense (Dense)                (None, 3)                 387       \n",
            "=================================================================\n",
            "Total params: 114,819\n",
            "Trainable params: 114,819\n",
            "Non-trainable params: 0\n",
            "_________________________________________________________________\n",
            "Accuracy : 75.86%\n",
            "Precision: 75.86%\n",
            "Recall: 75.86%\n",
            "F1-Score(m): 75.86%\n",
            "F1-Score(M) : 72.22%\n",
            "F1-Score(w) : 76.76%\n"
          ]
        }
      ]
    },
    {
      "cell_type": "code",
      "metadata": {
        "colab": {
          "base_uri": "https://localhost:8080/"
        },
        "id": "ofepLynxPYus",
        "outputId": "5d5a4a66-9a1c-4af2-a3e7-52223ee122ee"
      },
      "source": [
        "sum_7, hist_7, cfm_7, model_7 = Modelling(embed_dim = 16,\n",
        "                                  layer = tf.keras.layers.Bidirectional(tf.keras.layers.LSTM(32, activation='tanh')))"
      ],
      "execution_count": null,
      "outputs": [
        {
          "name": "stdout",
          "output_type": "stream",
          "text": [
            "Model: \"sequential\"\n",
            "_________________________________________________________________\n",
            "Layer (type)                 Output Shape              Param #   \n",
            "=================================================================\n",
            "embedding (Embedding)        (None, 25, 16)            16000     \n",
            "_________________________________________________________________\n",
            "bidirectional (Bidirectional (None, 64)                12544     \n",
            "_________________________________________________________________\n",
            "dense (Dense)                (None, 3)                 195       \n",
            "=================================================================\n",
            "Total params: 28,739\n",
            "Trainable params: 28,739\n",
            "Non-trainable params: 0\n",
            "_________________________________________________________________\n",
            "Accuracy : 84.48%\n",
            "Precision: 84.48%\n",
            "Recall: 84.48%\n",
            "F1-Score(m): 84.48%\n",
            "F1-Score(M) : 78.42%\n",
            "F1-Score(w) : 83.14%\n"
          ]
        }
      ]
    },
    {
      "cell_type": "code",
      "metadata": {
        "colab": {
          "base_uri": "https://localhost:8080/"
        },
        "id": "xmgTUgDBPc3W",
        "outputId": "a2268f7f-c234-40bc-da1d-dd1dca4c6247"
      },
      "source": [
        "sum_8, hist_8, cfm_8, model_8 = Modelling(embed_dim = 16,\n",
        "                                  layer = tf.keras.layers.Bidirectional(tf.keras.layers.LSTM(64, activation='tanh')))"
      ],
      "execution_count": null,
      "outputs": [
        {
          "name": "stdout",
          "output_type": "stream",
          "text": [
            "Model: \"sequential\"\n",
            "_________________________________________________________________\n",
            "Layer (type)                 Output Shape              Param #   \n",
            "=================================================================\n",
            "embedding (Embedding)        (None, 25, 16)            16000     \n",
            "_________________________________________________________________\n",
            "bidirectional (Bidirectional (None, 128)               41472     \n",
            "_________________________________________________________________\n",
            "dense (Dense)                (None, 3)                 387       \n",
            "=================================================================\n",
            "Total params: 57,859\n",
            "Trainable params: 57,859\n",
            "Non-trainable params: 0\n",
            "_________________________________________________________________\n",
            "Accuracy : 82.76%\n",
            "Precision: 82.76%\n",
            "Recall: 82.76%\n",
            "F1-Score(m): 82.76%\n",
            "F1-Score(M) : 78.05%\n",
            "F1-Score(w) : 82.12%\n"
          ]
        }
      ]
    },
    {
      "cell_type": "code",
      "metadata": {
        "colab": {
          "base_uri": "https://localhost:8080/"
        },
        "id": "I8ilOlWOPdaV",
        "outputId": "d71e5e52-d642-4cf2-9e51-ae792181c89f"
      },
      "source": [
        "sum_9, hist_9, cfm_9, model_9 = Modelling(embed_dim = 16,\n",
        "                                  layer = tf.keras.layers.Bidirectional(tf.keras.layers.LSTM(128, activation='tanh')))"
      ],
      "execution_count": null,
      "outputs": [
        {
          "name": "stdout",
          "output_type": "stream",
          "text": [
            "Model: \"sequential\"\n",
            "_________________________________________________________________\n",
            "Layer (type)                 Output Shape              Param #   \n",
            "=================================================================\n",
            "embedding (Embedding)        (None, 25, 8)             8000      \n",
            "_________________________________________________________________\n",
            "bidirectional (Bidirectional (None, 128)               37376     \n",
            "_________________________________________________________________\n",
            "dense (Dense)                (None, 3)                 387       \n",
            "=================================================================\n",
            "Total params: 45,763\n",
            "Trainable params: 45,763\n",
            "Non-trainable params: 0\n",
            "_________________________________________________________________\n",
            "Accuracy : 81.03%\n",
            "Precision: 81.03%\n",
            "Recall: 81.03%\n",
            "F1-Score(m): 81.03%\n",
            "F1-Score(M) : 76.75%\n",
            "F1-Score(w) : 80.33%\n"
          ]
        }
      ]
    },
    {
      "cell_type": "code",
      "metadata": {
        "colab": {
          "base_uri": "https://localhost:8080/"
        },
        "id": "jhIa2qNvPeJV",
        "outputId": "88614026-1721-4279-f3c4-cb6c37dc955c"
      },
      "source": [
        "sum_10, hist_10, cfm_10, model_10 = Modelling(embed_dim = 32,                                \n",
        "                                  layer = tf.keras.layers.Bidirectional(tf.keras.layers.LSTM(32, activation='tanh')))"
      ],
      "execution_count": null,
      "outputs": [
        {
          "name": "stdout",
          "output_type": "stream",
          "text": [
            "Model: \"sequential\"\n",
            "_________________________________________________________________\n",
            "Layer (type)                 Output Shape              Param #   \n",
            "=================================================================\n",
            "embedding (Embedding)        (None, 25, 32)            32000     \n",
            "_________________________________________________________________\n",
            "bidirectional (Bidirectional (None, 64)                16640     \n",
            "_________________________________________________________________\n",
            "dense (Dense)                (None, 3)                 195       \n",
            "=================================================================\n",
            "Total params: 48,835\n",
            "Trainable params: 48,835\n",
            "Non-trainable params: 0\n",
            "_________________________________________________________________\n",
            "Accuracy : 86.21%\n",
            "Precision: 86.21%\n",
            "Recall: 86.21%\n",
            "F1-Score(m): 86.21%\n",
            "F1-Score(M) : 84.14%\n",
            "F1-Score(w) : 86.39%\n"
          ]
        }
      ]
    },
    {
      "cell_type": "code",
      "metadata": {
        "colab": {
          "base_uri": "https://localhost:8080/"
        },
        "id": "tpdDoccJPejL",
        "outputId": "3f70f6b8-ed54-4b96-d6c9-2278a4fc2f8a"
      },
      "source": [
        "sum_11, hist_11, cfm_11, model_11 = Modelling(embed_dim = 32,\n",
        "                                  layer = tf.keras.layers.Bidirectional(tf.keras.layers.LSTM(64, activation='tanh')))"
      ],
      "execution_count": null,
      "outputs": [
        {
          "name": "stdout",
          "output_type": "stream",
          "text": [
            "Model: \"sequential\"\n",
            "_________________________________________________________________\n",
            "Layer (type)                 Output Shape              Param #   \n",
            "=================================================================\n",
            "embedding (Embedding)        (None, 25, 32)            32000     \n",
            "_________________________________________________________________\n",
            "bidirectional (Bidirectional (None, 128)               49664     \n",
            "_________________________________________________________________\n",
            "dense (Dense)                (None, 3)                 387       \n",
            "=================================================================\n",
            "Total params: 82,051\n",
            "Trainable params: 82,051\n",
            "Non-trainable params: 0\n",
            "_________________________________________________________________\n",
            "Accuracy : 75.86%\n",
            "Precision: 75.86%\n",
            "Recall: 75.86%\n",
            "F1-Score(m): 75.86%\n",
            "F1-Score(M) : 74.09%\n",
            "F1-Score(w) : 76.16%\n"
          ]
        }
      ]
    },
    {
      "cell_type": "code",
      "metadata": {
        "colab": {
          "base_uri": "https://localhost:8080/"
        },
        "id": "9xcGJGmNPe90",
        "outputId": "7637c308-82aa-4d6c-f6ce-b58b0ece946b"
      },
      "source": [
        "sum_12, hist_12, cfm_12, model_12 = Modelling(embed_dim = 32,\n",
        "                                  layer = tf.keras.layers.Bidirectional(tf.keras.layers.LSTM(128, activation='tanh')))"
      ],
      "execution_count": null,
      "outputs": [
        {
          "name": "stdout",
          "output_type": "stream",
          "text": [
            "Model: \"sequential\"\n",
            "_________________________________________________________________\n",
            "Layer (type)                 Output Shape              Param #   \n",
            "=================================================================\n",
            "embedding (Embedding)        (None, 25, 32)            32000     \n",
            "_________________________________________________________________\n",
            "bidirectional (Bidirectional (None, 256)               164864    \n",
            "_________________________________________________________________\n",
            "dense (Dense)                (None, 3)                 771       \n",
            "=================================================================\n",
            "Total params: 197,635\n",
            "Trainable params: 197,635\n",
            "Non-trainable params: 0\n",
            "_________________________________________________________________\n",
            "Epoch 1/150\n",
            "26/26 - 10s - loss: 1.0939 - accuracy: 0.3862 - val_loss: 1.0718 - val_accuracy: 0.4528\n",
            "Epoch 2/150\n",
            "26/26 - 0s - loss: 0.9904 - accuracy: 0.5437 - val_loss: 1.1688 - val_accuracy: 0.1887\n",
            "Epoch 3/150\n",
            "26/26 - 0s - loss: 0.5978 - accuracy: 0.7196 - val_loss: 1.1201 - val_accuracy: 0.3962\n",
            "Epoch 4/150\n",
            "26/26 - 0s - loss: 0.3681 - accuracy: 0.8930 - val_loss: 1.0618 - val_accuracy: 0.6792\n",
            "Epoch 5/150\n",
            "26/26 - 0s - loss: 0.1915 - accuracy: 0.9360 - val_loss: 1.0095 - val_accuracy: 0.5660\n",
            "Epoch 6/150\n",
            "26/26 - 0s - loss: 0.1307 - accuracy: 0.9557 - val_loss: 0.9569 - val_accuracy: 0.6981\n",
            "Epoch 7/150\n",
            "26/26 - 0s - loss: 0.0771 - accuracy: 0.9766 - val_loss: 1.0550 - val_accuracy: 0.7170\n",
            "Epoch 8/150\n",
            "26/26 - 0s - loss: 0.0523 - accuracy: 0.9803 - val_loss: 1.2795 - val_accuracy: 0.6792\n",
            "Epoch 9/150\n",
            "26/26 - 0s - loss: 0.0413 - accuracy: 0.9852 - val_loss: 1.2565 - val_accuracy: 0.6604\n",
            "Epoch 10/150\n",
            "26/26 - 0s - loss: 0.0277 - accuracy: 0.9938 - val_loss: 1.3452 - val_accuracy: 0.6604\n",
            "Epoch 11/150\n",
            "26/26 - 0s - loss: 0.0152 - accuracy: 0.9938 - val_loss: 1.4038 - val_accuracy: 0.6981\n",
            "Epoch 12/150\n",
            "26/26 - 0s - loss: 0.0214 - accuracy: 0.9951 - val_loss: 1.4300 - val_accuracy: 0.6981\n",
            "Epoch 13/150\n",
            "26/26 - 0s - loss: 0.0181 - accuracy: 0.9963 - val_loss: 1.4305 - val_accuracy: 0.6981\n",
            "Epoch 14/150\n",
            "26/26 - 0s - loss: 0.0170 - accuracy: 0.9963 - val_loss: 1.4938 - val_accuracy: 0.6981\n",
            "Epoch 15/150\n",
            "26/26 - 0s - loss: 0.0278 - accuracy: 0.9938 - val_loss: 1.1769 - val_accuracy: 0.7358\n",
            "Epoch 16/150\n",
            "26/26 - 0s - loss: 0.0262 - accuracy: 0.9914 - val_loss: 0.9670 - val_accuracy: 0.7170\n",
            "Epoch 17/150\n",
            "26/26 - 0s - loss: 0.0145 - accuracy: 0.9975 - val_loss: 1.2758 - val_accuracy: 0.7170\n",
            "Epoch 18/150\n",
            "26/26 - 0s - loss: 0.0297 - accuracy: 0.9889 - val_loss: 1.0403 - val_accuracy: 0.7736\n",
            "Epoch 19/150\n",
            "26/26 - 0s - loss: 0.0075 - accuracy: 1.0000 - val_loss: 1.2345 - val_accuracy: 0.7547\n",
            "Epoch 20/150\n",
            "26/26 - 0s - loss: 0.0021 - accuracy: 1.0000 - val_loss: 1.5277 - val_accuracy: 0.7736\n",
            "Epoch 21/150\n",
            "26/26 - 0s - loss: 0.0013 - accuracy: 1.0000 - val_loss: 1.4885 - val_accuracy: 0.7925\n",
            "Epoch 22/150\n",
            "26/26 - 0s - loss: 9.7709e-04 - accuracy: 1.0000 - val_loss: 1.4964 - val_accuracy: 0.7925\n",
            "Epoch 23/150\n",
            "26/26 - 0s - loss: 8.1346e-04 - accuracy: 1.0000 - val_loss: 1.5340 - val_accuracy: 0.7925\n",
            "Epoch 24/150\n",
            "26/26 - 0s - loss: 6.9416e-04 - accuracy: 1.0000 - val_loss: 1.5499 - val_accuracy: 0.7925\n",
            "Epoch 25/150\n",
            "26/26 - 0s - loss: 6.1219e-04 - accuracy: 1.0000 - val_loss: 1.5846 - val_accuracy: 0.7925\n",
            "Epoch 26/150\n",
            "26/26 - 0s - loss: 5.4029e-04 - accuracy: 1.0000 - val_loss: 1.5917 - val_accuracy: 0.7925\n",
            "Epoch 27/150\n",
            "26/26 - 0s - loss: 4.8830e-04 - accuracy: 1.0000 - val_loss: 1.6108 - val_accuracy: 0.7925\n",
            "Epoch 28/150\n",
            "26/26 - 0s - loss: 4.4070e-04 - accuracy: 1.0000 - val_loss: 1.6288 - val_accuracy: 0.7925\n",
            "Epoch 29/150\n",
            "26/26 - 0s - loss: 4.0277e-04 - accuracy: 1.0000 - val_loss: 1.6436 - val_accuracy: 0.7736\n",
            "Epoch 30/150\n",
            "26/26 - 0s - loss: 3.7083e-04 - accuracy: 1.0000 - val_loss: 1.6630 - val_accuracy: 0.7736\n",
            "Epoch 31/150\n",
            "26/26 - 0s - loss: 3.4308e-04 - accuracy: 1.0000 - val_loss: 1.6680 - val_accuracy: 0.7736\n",
            "Epoch 32/150\n",
            "26/26 - 0s - loss: 3.1795e-04 - accuracy: 1.0000 - val_loss: 1.6871 - val_accuracy: 0.7736\n",
            "Epoch 33/150\n",
            "26/26 - 0s - loss: 2.9742e-04 - accuracy: 1.0000 - val_loss: 1.6998 - val_accuracy: 0.7736\n",
            "Epoch 34/150\n",
            "26/26 - 0s - loss: 2.7821e-04 - accuracy: 1.0000 - val_loss: 1.7172 - val_accuracy: 0.7736\n",
            "Epoch 35/150\n",
            "26/26 - 0s - loss: 2.6313e-04 - accuracy: 1.0000 - val_loss: 1.7225 - val_accuracy: 0.7736\n",
            "Epoch 36/150\n",
            "26/26 - 0s - loss: 2.4537e-04 - accuracy: 1.0000 - val_loss: 1.7393 - val_accuracy: 0.7736\n",
            "Epoch 37/150\n",
            "26/26 - 0s - loss: 2.3226e-04 - accuracy: 1.0000 - val_loss: 1.7510 - val_accuracy: 0.7736\n",
            "Epoch 38/150\n",
            "26/26 - 0s - loss: 2.1877e-04 - accuracy: 1.0000 - val_loss: 1.7586 - val_accuracy: 0.7736\n",
            "Epoch 39/150\n",
            "26/26 - 0s - loss: 2.0730e-04 - accuracy: 1.0000 - val_loss: 1.7650 - val_accuracy: 0.7736\n",
            "Epoch 40/150\n",
            "26/26 - 0s - loss: 1.9809e-04 - accuracy: 1.0000 - val_loss: 1.7729 - val_accuracy: 0.7736\n",
            "Epoch 41/150\n",
            "26/26 - 0s - loss: 1.8682e-04 - accuracy: 1.0000 - val_loss: 1.7921 - val_accuracy: 0.7736\n",
            "Epoch 42/150\n",
            "26/26 - 0s - loss: 1.7754e-04 - accuracy: 1.0000 - val_loss: 1.7966 - val_accuracy: 0.7736\n",
            "Epoch 43/150\n",
            "26/26 - 0s - loss: 1.6983e-04 - accuracy: 1.0000 - val_loss: 1.8041 - val_accuracy: 0.7736\n",
            "Epoch 44/150\n",
            "26/26 - 0s - loss: 1.6180e-04 - accuracy: 1.0000 - val_loss: 1.8095 - val_accuracy: 0.7736\n",
            "Epoch 45/150\n",
            "26/26 - 0s - loss: 1.5468e-04 - accuracy: 1.0000 - val_loss: 1.8255 - val_accuracy: 0.7736\n",
            "Epoch 46/150\n",
            "26/26 - 0s - loss: 1.4845e-04 - accuracy: 1.0000 - val_loss: 1.8324 - val_accuracy: 0.7736\n",
            "Epoch 47/150\n",
            "26/26 - 0s - loss: 1.4187e-04 - accuracy: 1.0000 - val_loss: 1.8353 - val_accuracy: 0.7736\n",
            "Epoch 48/150\n",
            "26/26 - 0s - loss: 1.3615e-04 - accuracy: 1.0000 - val_loss: 1.8431 - val_accuracy: 0.7736\n",
            "Epoch 49/150\n",
            "26/26 - 0s - loss: 1.3020e-04 - accuracy: 1.0000 - val_loss: 1.8512 - val_accuracy: 0.7736\n",
            "Epoch 50/150\n",
            "26/26 - 0s - loss: 1.2587e-04 - accuracy: 1.0000 - val_loss: 1.8604 - val_accuracy: 0.7736\n",
            "Epoch 51/150\n",
            "26/26 - 0s - loss: 1.2207e-04 - accuracy: 1.0000 - val_loss: 1.8616 - val_accuracy: 0.7736\n",
            "Epoch 52/150\n",
            "26/26 - 0s - loss: 1.1643e-04 - accuracy: 1.0000 - val_loss: 1.8717 - val_accuracy: 0.7736\n",
            "Epoch 53/150\n",
            "26/26 - 0s - loss: 1.1148e-04 - accuracy: 1.0000 - val_loss: 1.8788 - val_accuracy: 0.7736\n",
            "Epoch 54/150\n",
            "26/26 - 0s - loss: 1.0823e-04 - accuracy: 1.0000 - val_loss: 1.8862 - val_accuracy: 0.7736\n",
            "Epoch 55/150\n",
            "26/26 - 0s - loss: 1.0370e-04 - accuracy: 1.0000 - val_loss: 1.8954 - val_accuracy: 0.7547\n",
            "Epoch 56/150\n",
            "26/26 - 0s - loss: 1.0029e-04 - accuracy: 1.0000 - val_loss: 1.8995 - val_accuracy: 0.7736\n",
            "Epoch 57/150\n",
            "26/26 - 0s - loss: 9.7460e-05 - accuracy: 1.0000 - val_loss: 1.9046 - val_accuracy: 0.7547\n",
            "Epoch 58/150\n",
            "26/26 - 0s - loss: 9.3807e-05 - accuracy: 1.0000 - val_loss: 1.9087 - val_accuracy: 0.7547\n",
            "Epoch 59/150\n",
            "26/26 - 0s - loss: 9.0840e-05 - accuracy: 1.0000 - val_loss: 1.9124 - val_accuracy: 0.7547\n",
            "Epoch 60/150\n",
            "26/26 - 0s - loss: 8.7540e-05 - accuracy: 1.0000 - val_loss: 1.9232 - val_accuracy: 0.7547\n",
            "Epoch 61/150\n",
            "26/26 - 0s - loss: 8.5767e-05 - accuracy: 1.0000 - val_loss: 1.9339 - val_accuracy: 0.7547\n",
            "Epoch 62/150\n",
            "26/26 - 0s - loss: 8.2323e-05 - accuracy: 1.0000 - val_loss: 1.9301 - val_accuracy: 0.7547\n",
            "Epoch 63/150\n",
            "26/26 - 0s - loss: 7.9961e-05 - accuracy: 1.0000 - val_loss: 1.9385 - val_accuracy: 0.7547\n",
            "Epoch 64/150\n",
            "26/26 - 0s - loss: 7.7262e-05 - accuracy: 1.0000 - val_loss: 1.9447 - val_accuracy: 0.7547\n",
            "Epoch 65/150\n",
            "26/26 - 0s - loss: 7.4977e-05 - accuracy: 1.0000 - val_loss: 1.9404 - val_accuracy: 0.7547\n",
            "Epoch 66/150\n",
            "26/26 - 0s - loss: 7.2710e-05 - accuracy: 1.0000 - val_loss: 1.9516 - val_accuracy: 0.7547\n",
            "Epoch 67/150\n",
            "26/26 - 0s - loss: 7.0790e-05 - accuracy: 1.0000 - val_loss: 1.9626 - val_accuracy: 0.7547\n",
            "Epoch 68/150\n",
            "26/26 - 0s - loss: 6.7905e-05 - accuracy: 1.0000 - val_loss: 1.9640 - val_accuracy: 0.7547\n",
            "Epoch 69/150\n",
            "26/26 - 0s - loss: 6.6214e-05 - accuracy: 1.0000 - val_loss: 1.9677 - val_accuracy: 0.7547\n",
            "Epoch 70/150\n",
            "26/26 - 0s - loss: 6.4523e-05 - accuracy: 1.0000 - val_loss: 1.9767 - val_accuracy: 0.7547\n",
            "Epoch 71/150\n",
            "26/26 - 0s - loss: 6.2984e-05 - accuracy: 1.0000 - val_loss: 1.9793 - val_accuracy: 0.7547\n",
            "Epoch 72/150\n",
            "26/26 - 0s - loss: 6.1057e-05 - accuracy: 1.0000 - val_loss: 1.9859 - val_accuracy: 0.7547\n",
            "Epoch 73/150\n",
            "26/26 - 0s - loss: 5.9212e-05 - accuracy: 1.0000 - val_loss: 1.9907 - val_accuracy: 0.7547\n",
            "Epoch 74/150\n",
            "26/26 - 0s - loss: 5.7729e-05 - accuracy: 1.0000 - val_loss: 1.9928 - val_accuracy: 0.7547\n",
            "Epoch 75/150\n",
            "26/26 - 0s - loss: 5.5919e-05 - accuracy: 1.0000 - val_loss: 1.9964 - val_accuracy: 0.7547\n",
            "Epoch 76/150\n",
            "26/26 - 0s - loss: 5.5015e-05 - accuracy: 1.0000 - val_loss: 2.0014 - val_accuracy: 0.7547\n",
            "Epoch 77/150\n",
            "26/26 - 0s - loss: 5.3050e-05 - accuracy: 1.0000 - val_loss: 2.0045 - val_accuracy: 0.7547\n",
            "Epoch 78/150\n",
            "26/26 - 0s - loss: 5.1670e-05 - accuracy: 1.0000 - val_loss: 2.0107 - val_accuracy: 0.7547\n",
            "Epoch 79/150\n",
            "26/26 - 0s - loss: 5.0725e-05 - accuracy: 1.0000 - val_loss: 2.0182 - val_accuracy: 0.7547\n",
            "Epoch 80/150\n",
            "26/26 - 0s - loss: 4.9470e-05 - accuracy: 1.0000 - val_loss: 2.0153 - val_accuracy: 0.7547\n",
            "Epoch 81/150\n",
            "26/26 - 0s - loss: 4.7819e-05 - accuracy: 1.0000 - val_loss: 2.0243 - val_accuracy: 0.7547\n",
            "Epoch 82/150\n",
            "26/26 - 0s - loss: 4.6747e-05 - accuracy: 1.0000 - val_loss: 2.0284 - val_accuracy: 0.7547\n",
            "Epoch 83/150\n",
            "26/26 - 0s - loss: 4.5726e-05 - accuracy: 1.0000 - val_loss: 2.0348 - val_accuracy: 0.7547\n",
            "Epoch 84/150\n",
            "26/26 - 0s - loss: 4.4339e-05 - accuracy: 1.0000 - val_loss: 2.0344 - val_accuracy: 0.7547\n",
            "Epoch 85/150\n",
            "26/26 - 0s - loss: 4.3434e-05 - accuracy: 1.0000 - val_loss: 2.0381 - val_accuracy: 0.7547\n",
            "Epoch 86/150\n",
            "26/26 - 0s - loss: 4.2352e-05 - accuracy: 1.0000 - val_loss: 2.0431 - val_accuracy: 0.7547\n",
            "Epoch 87/150\n",
            "26/26 - 0s - loss: 4.1371e-05 - accuracy: 1.0000 - val_loss: 2.0477 - val_accuracy: 0.7547\n",
            "Epoch 88/150\n",
            "26/26 - 0s - loss: 4.0417e-05 - accuracy: 1.0000 - val_loss: 2.0529 - val_accuracy: 0.7547\n",
            "Epoch 89/150\n",
            "26/26 - 0s - loss: 3.9525e-05 - accuracy: 1.0000 - val_loss: 2.0572 - val_accuracy: 0.7547\n",
            "Epoch 90/150\n",
            "26/26 - 0s - loss: 3.9034e-05 - accuracy: 1.0000 - val_loss: 2.0620 - val_accuracy: 0.7547\n",
            "Epoch 91/150\n",
            "26/26 - 0s - loss: 3.7542e-05 - accuracy: 1.0000 - val_loss: 2.0613 - val_accuracy: 0.7547\n",
            "Epoch 92/150\n",
            "26/26 - 0s - loss: 3.6906e-05 - accuracy: 1.0000 - val_loss: 2.0662 - val_accuracy: 0.7547\n",
            "Epoch 93/150\n",
            "26/26 - 0s - loss: 3.6086e-05 - accuracy: 1.0000 - val_loss: 2.0713 - val_accuracy: 0.7547\n",
            "Epoch 94/150\n",
            "26/26 - 0s - loss: 3.5132e-05 - accuracy: 1.0000 - val_loss: 2.0770 - val_accuracy: 0.7547\n",
            "Epoch 95/150\n",
            "26/26 - 0s - loss: 3.4391e-05 - accuracy: 1.0000 - val_loss: 2.0792 - val_accuracy: 0.7547\n",
            "Epoch 96/150\n",
            "26/26 - 0s - loss: 3.3855e-05 - accuracy: 1.0000 - val_loss: 2.0836 - val_accuracy: 0.7547\n",
            "Epoch 97/150\n",
            "26/26 - 0s - loss: 3.3351e-05 - accuracy: 1.0000 - val_loss: 2.0866 - val_accuracy: 0.7547\n",
            "Epoch 98/150\n",
            "26/26 - 0s - loss: 3.2260e-05 - accuracy: 1.0000 - val_loss: 2.0875 - val_accuracy: 0.7547\n",
            "Epoch 99/150\n",
            "26/26 - 0s - loss: 3.1590e-05 - accuracy: 1.0000 - val_loss: 2.0926 - val_accuracy: 0.7547\n",
            "Epoch 100/150\n",
            "26/26 - 0s - loss: 3.0971e-05 - accuracy: 1.0000 - val_loss: 2.0957 - val_accuracy: 0.7547\n",
            "Epoch 101/150\n",
            "26/26 - 0s - loss: 3.0427e-05 - accuracy: 1.0000 - val_loss: 2.1023 - val_accuracy: 0.7547\n",
            "Epoch 102/150\n",
            "26/26 - 0s - loss: 2.9660e-05 - accuracy: 1.0000 - val_loss: 2.1019 - val_accuracy: 0.7547\n",
            "Epoch 103/150\n",
            "26/26 - 0s - loss: 2.8943e-05 - accuracy: 1.0000 - val_loss: 2.1089 - val_accuracy: 0.7547\n",
            "Epoch 104/150\n",
            "26/26 - 0s - loss: 2.8363e-05 - accuracy: 1.0000 - val_loss: 2.1123 - val_accuracy: 0.7547\n",
            "Epoch 105/150\n",
            "26/26 - 0s - loss: 2.7782e-05 - accuracy: 1.0000 - val_loss: 2.1154 - val_accuracy: 0.7547\n",
            "Epoch 106/150\n",
            "26/26 - 0s - loss: 2.7168e-05 - accuracy: 1.0000 - val_loss: 2.1174 - val_accuracy: 0.7547\n",
            "Epoch 107/150\n",
            "26/26 - 0s - loss: 2.6754e-05 - accuracy: 1.0000 - val_loss: 2.1225 - val_accuracy: 0.7547\n",
            "Epoch 108/150\n",
            "26/26 - 0s - loss: 2.6216e-05 - accuracy: 1.0000 - val_loss: 2.1256 - val_accuracy: 0.7547\n",
            "Epoch 109/150\n",
            "26/26 - 0s - loss: 2.5758e-05 - accuracy: 1.0000 - val_loss: 2.1280 - val_accuracy: 0.7547\n",
            "Epoch 110/150\n",
            "26/26 - 0s - loss: 2.5294e-05 - accuracy: 1.0000 - val_loss: 2.1304 - val_accuracy: 0.7547\n",
            "Epoch 111/150\n",
            "26/26 - 0s - loss: 2.4800e-05 - accuracy: 1.0000 - val_loss: 2.1358 - val_accuracy: 0.7547\n",
            "Epoch 112/150\n",
            "26/26 - 0s - loss: 2.4296e-05 - accuracy: 1.0000 - val_loss: 2.1387 - val_accuracy: 0.7547\n",
            "Epoch 113/150\n",
            "26/26 - 0s - loss: 2.3714e-05 - accuracy: 1.0000 - val_loss: 2.1406 - val_accuracy: 0.7547\n",
            "Epoch 114/150\n",
            "26/26 - 0s - loss: 2.3161e-05 - accuracy: 1.0000 - val_loss: 2.1460 - val_accuracy: 0.7547\n",
            "Epoch 115/150\n",
            "26/26 - 0s - loss: 2.3009e-05 - accuracy: 1.0000 - val_loss: 2.1477 - val_accuracy: 0.7547\n",
            "Epoch 116/150\n",
            "26/26 - 0s - loss: 2.2168e-05 - accuracy: 1.0000 - val_loss: 2.1552 - val_accuracy: 0.7547\n",
            "Epoch 117/150\n",
            "26/26 - 0s - loss: 2.1973e-05 - accuracy: 1.0000 - val_loss: 2.1572 - val_accuracy: 0.7547\n",
            "Epoch 118/150\n",
            "26/26 - 0s - loss: 2.1745e-05 - accuracy: 1.0000 - val_loss: 2.1576 - val_accuracy: 0.7547\n",
            "Epoch 119/150\n",
            "26/26 - 0s - loss: 2.1032e-05 - accuracy: 1.0000 - val_loss: 2.1643 - val_accuracy: 0.7547\n",
            "Epoch 120/150\n",
            "26/26 - 0s - loss: 2.0762e-05 - accuracy: 1.0000 - val_loss: 2.1654 - val_accuracy: 0.7547\n",
            "Epoch 121/150\n",
            "26/26 - 0s - loss: 2.0168e-05 - accuracy: 1.0000 - val_loss: 2.1701 - val_accuracy: 0.7547\n",
            "Epoch 122/150\n",
            "26/26 - 0s - loss: 1.9907e-05 - accuracy: 1.0000 - val_loss: 2.1725 - val_accuracy: 0.7547\n",
            "Epoch 123/150\n",
            "26/26 - 0s - loss: 1.9603e-05 - accuracy: 1.0000 - val_loss: 2.1735 - val_accuracy: 0.7547\n",
            "Epoch 124/150\n",
            "26/26 - 0s - loss: 1.9108e-05 - accuracy: 1.0000 - val_loss: 2.1787 - val_accuracy: 0.7547\n",
            "Epoch 125/150\n",
            "26/26 - 0s - loss: 1.8928e-05 - accuracy: 1.0000 - val_loss: 2.1808 - val_accuracy: 0.7547\n",
            "Epoch 126/150\n",
            "26/26 - 0s - loss: 1.8407e-05 - accuracy: 1.0000 - val_loss: 2.1858 - val_accuracy: 0.7547\n",
            "Epoch 127/150\n",
            "26/26 - 0s - loss: 1.8099e-05 - accuracy: 1.0000 - val_loss: 2.1885 - val_accuracy: 0.7547\n",
            "Epoch 128/150\n",
            "26/26 - 0s - loss: 1.7887e-05 - accuracy: 1.0000 - val_loss: 2.1912 - val_accuracy: 0.7547\n",
            "Epoch 129/150\n",
            "26/26 - 0s - loss: 1.7526e-05 - accuracy: 1.0000 - val_loss: 2.1913 - val_accuracy: 0.7547\n",
            "Epoch 130/150\n",
            "26/26 - 0s - loss: 1.7336e-05 - accuracy: 1.0000 - val_loss: 2.1978 - val_accuracy: 0.7547\n",
            "Epoch 131/150\n",
            "26/26 - 0s - loss: 1.7046e-05 - accuracy: 1.0000 - val_loss: 2.1968 - val_accuracy: 0.7547\n",
            "Epoch 132/150\n",
            "26/26 - 0s - loss: 1.6463e-05 - accuracy: 1.0000 - val_loss: 2.2049 - val_accuracy: 0.7547\n",
            "Epoch 133/150\n",
            "26/26 - 0s - loss: 1.6211e-05 - accuracy: 1.0000 - val_loss: 2.2069 - val_accuracy: 0.7547\n",
            "Epoch 134/150\n",
            "26/26 - 0s - loss: 1.6028e-05 - accuracy: 1.0000 - val_loss: 2.2116 - val_accuracy: 0.7547\n",
            "Epoch 135/150\n",
            "26/26 - 0s - loss: 1.5753e-05 - accuracy: 1.0000 - val_loss: 2.2159 - val_accuracy: 0.7547\n",
            "Epoch 136/150\n",
            "26/26 - 0s - loss: 1.5183e-05 - accuracy: 1.0000 - val_loss: 2.2141 - val_accuracy: 0.7547\n",
            "Epoch 137/150\n",
            "26/26 - 0s - loss: 1.5098e-05 - accuracy: 1.0000 - val_loss: 2.2167 - val_accuracy: 0.7547\n",
            "Epoch 138/150\n",
            "26/26 - 0s - loss: 1.4833e-05 - accuracy: 1.0000 - val_loss: 2.2224 - val_accuracy: 0.7547\n",
            "Epoch 139/150\n",
            "26/26 - 0s - loss: 1.4603e-05 - accuracy: 1.0000 - val_loss: 2.2252 - val_accuracy: 0.7547\n",
            "Epoch 140/150\n",
            "26/26 - 0s - loss: 1.4309e-05 - accuracy: 1.0000 - val_loss: 2.2263 - val_accuracy: 0.7547\n",
            "Epoch 141/150\n",
            "26/26 - 0s - loss: 1.4459e-05 - accuracy: 1.0000 - val_loss: 2.2335 - val_accuracy: 0.7547\n",
            "Epoch 142/150\n",
            "26/26 - 0s - loss: 1.4002e-05 - accuracy: 1.0000 - val_loss: 2.2311 - val_accuracy: 0.7547\n",
            "Epoch 143/150\n",
            "26/26 - 0s - loss: 1.3584e-05 - accuracy: 1.0000 - val_loss: 2.2386 - val_accuracy: 0.7547\n",
            "Epoch 144/150\n",
            "26/26 - 0s - loss: 1.3320e-05 - accuracy: 1.0000 - val_loss: 2.2400 - val_accuracy: 0.7547\n",
            "Epoch 145/150\n",
            "26/26 - 0s - loss: 1.3224e-05 - accuracy: 1.0000 - val_loss: 2.2454 - val_accuracy: 0.7547\n",
            "Epoch 146/150\n",
            "26/26 - 0s - loss: 1.2794e-05 - accuracy: 1.0000 - val_loss: 2.2448 - val_accuracy: 0.7547\n",
            "Epoch 147/150\n",
            "26/26 - 0s - loss: 1.2630e-05 - accuracy: 1.0000 - val_loss: 2.2462 - val_accuracy: 0.7547\n",
            "Epoch 148/150\n",
            "26/26 - 0s - loss: 1.2359e-05 - accuracy: 1.0000 - val_loss: 2.2537 - val_accuracy: 0.7547\n",
            "Epoch 149/150\n",
            "26/26 - 0s - loss: 1.2146e-05 - accuracy: 1.0000 - val_loss: 2.2563 - val_accuracy: 0.7547\n",
            "Epoch 150/150\n",
            "26/26 - 0s - loss: 1.1986e-05 - accuracy: 1.0000 - val_loss: 2.2586 - val_accuracy: 0.7547\n",
            "Accuracy : 77.59%\n",
            "Precision: 77.59%\n",
            "Recall: 77.59%\n",
            "F1-Score(m): 77.59%\n",
            "F1-Score(M) : 69.35%\n",
            "F1-Score(w) : 76.12%\n"
          ]
        }
      ]
    },
    {
      "cell_type": "code",
      "metadata": {
        "id": "7Z-pYQ13Nz0X"
      },
      "source": [
        "#Model Final\n",
        "def Modelling_Stacked(embed_dim, layer1, layer2, vocab_size=1000, validation_data = (validation_padded, validation_labels),\n",
        "              X_test = X_test, y_test = y_test) :\n",
        "  tf.keras.backend.clear_session()\n",
        "  embedding_dim = embed_dim\n",
        "  model =[]\n",
        "  model = tf.keras.Sequential([\n",
        "      tf.keras.layers.Embedding(vocab_size, embedding_dim, input_length=max_length),\n",
        "      layer1,\n",
        "      layer2,\n",
        "      tf.keras.layers.Dense(3, activation='softmax')\n",
        "  ])\n",
        "  summary = model.summary()\n",
        "  model.compile(loss='categorical_crossentropy', optimizer='adam', metrics=['accuracy'])\n",
        "  epochs = 150\n",
        "\n",
        "  history = model.fit(train_padded, training_labels, shuffle=True,\n",
        "                    epochs=epochs, validation_data=validation_data, verbose=2)\n",
        "  model_final = tf.keras.models.clone_model(model)\n",
        "  \n",
        "  y_pred = model.predict(X_test)\n",
        "  y_pred1 = encode.inverse_transform(y_pred)\n",
        "  y_pred1 = list(np.concatenate(y_pred1).flat)\n",
        "\n",
        "  y_test1 = encode.inverse_transform(y_test)\n",
        "  y_test1 = list(np.concatenate(y_test1).flat)\n",
        "  cfm = confusion_matrix(y_test1, y_pred1, labels=['negatif', 'netral', 'positif'])\n",
        "\n",
        "  print('Accuracy : {:.2f}%'.format(accuracy_score(y_test1, y_pred1)*100))\n",
        "  print('Precision: {:.2f}%'.format(precision_score(y_test1, y_pred1, average=\"micro\")*100))\n",
        "  print('Recall: {:.2f}%'.format(recall_score(y_test1, y_pred1, average=\"micro\")*100))\n",
        "  print('F1-Score(m): {:.2f}%'.format(f1_score(y_test1, y_pred1, average=\"micro\")*100))\n",
        "  print('F1-Score(M) : {:.2f}%'.format(f1_score(y_test1, y_pred1, average='macro')*100))\n",
        "  print('F1-Score(w) : {:.2f}%'.format(f1_score(y_test1, y_pred1, average='weighted')*100))\n",
        "  return  summary, history, cfm, model_final"
      ],
      "execution_count": null,
      "outputs": []
    },
    {
      "cell_type": "code",
      "metadata": {
        "colab": {
          "base_uri": "https://localhost:8080/"
        },
        "id": "0NY03yimKWJc",
        "outputId": "2bbac58c-5765-493d-fc79-e7c6f60ba0af"
      },
      "source": [
        "sum_13, hist_13, cfm_13, model_13 = Modelling_Stacked(embed_dim = 16,\n",
        "                                  layer1 = tf.keras.layers.LSTM(32, activation='tanh',return_sequences=True),\n",
        "                                  layer2 = tf.keras.layers.LSTM(16, activation='tanh'))\n"
      ],
      "execution_count": null,
      "outputs": [
        {
          "name": "stdout",
          "output_type": "stream",
          "text": [
            "Model: \"sequential\"\n",
            "_________________________________________________________________\n",
            "Layer (type)                 Output Shape              Param #   \n",
            "=================================================================\n",
            "embedding (Embedding)        (None, 25, 16)            16000     \n",
            "_________________________________________________________________\n",
            "lstm (LSTM)                  (None, 25, 32)            6272      \n",
            "_________________________________________________________________\n",
            "lstm_1 (LSTM)                (None, 16)                3136      \n",
            "_________________________________________________________________\n",
            "dense (Dense)                (None, 3)                 51        \n",
            "=================================================================\n",
            "Total params: 25,459\n",
            "Trainable params: 25,459\n",
            "Non-trainable params: 0\n",
            "_________________________________________________________________\n",
            "Accuracy : 79.31%\n",
            "Precision: 79.31%\n",
            "Recall: 79.31%\n",
            "F1-Score(m): 79.31%\n",
            "F1-Score(M) : 76.49%\n",
            "F1-Score(w) : 79.32%\n"
          ]
        }
      ]
    },
    {
      "cell_type": "code",
      "metadata": {
        "colab": {
          "base_uri": "https://localhost:8080/"
        },
        "id": "jS-CLHQzk0ps",
        "outputId": "42002449-a971-4c35-ff88-5f8188f222af"
      },
      "source": [
        "sum_14, hist_14, cfm_14, model_14 = Modelling_Stacked(embed_dim = 16,\n",
        "                                  layer1 = tf.keras.layers.LSTM(64, activation='tanh', return_sequences=True),\n",
        "                                  layer2 = tf.keras.layers.LSTM(32, activation='tanh'))\n"
      ],
      "execution_count": null,
      "outputs": [
        {
          "name": "stdout",
          "output_type": "stream",
          "text": [
            "Model: \"sequential\"\n",
            "_________________________________________________________________\n",
            "Layer (type)                 Output Shape              Param #   \n",
            "=================================================================\n",
            "embedding (Embedding)        (None, 25, 16)            16000     \n",
            "_________________________________________________________________\n",
            "lstm (LSTM)                  (None, 25, 64)            20736     \n",
            "_________________________________________________________________\n",
            "lstm_1 (LSTM)                (None, 32)                12416     \n",
            "_________________________________________________________________\n",
            "dense (Dense)                (None, 3)                 99        \n",
            "=================================================================\n",
            "Total params: 49,251\n",
            "Trainable params: 49,251\n",
            "Non-trainable params: 0\n",
            "_________________________________________________________________\n",
            "Accuracy : 82.76%\n",
            "Precision: 82.76%\n",
            "Recall: 82.76%\n",
            "F1-Score(m): 82.76%\n",
            "F1-Score(M) : 80.02%\n",
            "F1-Score(w) : 82.84%\n"
          ]
        }
      ]
    },
    {
      "cell_type": "code",
      "metadata": {
        "colab": {
          "base_uri": "https://localhost:8080/"
        },
        "id": "cjhfdUBXl4_j",
        "outputId": "4c1bffd0-14aa-4d8f-b3bb-1786e9826d2a"
      },
      "source": [
        "sum_15, hist_15, cfm_15, model_15 = Modelling_Stacked(embed_dim = 16,\n",
        "                                  layer1 = tf.keras.layers.LSTM(128, activation='tanh', return_sequences=True),\n",
        "                                  layer2 = tf.keras.layers.LSTM(64, activation='tanh'))\n"
      ],
      "execution_count": null,
      "outputs": [
        {
          "name": "stdout",
          "output_type": "stream",
          "text": [
            "Model: \"sequential\"\n",
            "_________________________________________________________________\n",
            "Layer (type)                 Output Shape              Param #   \n",
            "=================================================================\n",
            "embedding (Embedding)        (None, 25, 16)            16000     \n",
            "_________________________________________________________________\n",
            "lstm (LSTM)                  (None, 25, 128)           74240     \n",
            "_________________________________________________________________\n",
            "lstm_1 (LSTM)                (None, 64)                49408     \n",
            "_________________________________________________________________\n",
            "dense (Dense)                (None, 3)                 195       \n",
            "=================================================================\n",
            "Total params: 139,843\n",
            "Trainable params: 139,843\n",
            "Non-trainable params: 0\n",
            "_________________________________________________________________\n",
            "Accuracy : 81.03%\n",
            "Precision: 81.03%\n",
            "Recall: 81.03%\n",
            "F1-Score(m): 81.03%\n",
            "F1-Score(M) : 79.04%\n",
            "F1-Score(w) : 81.84%\n"
          ]
        }
      ]
    },
    {
      "cell_type": "code",
      "metadata": {
        "colab": {
          "base_uri": "https://localhost:8080/"
        },
        "id": "pkqmKBpVl_Vt",
        "outputId": "e9d36677-ccb7-42dc-a664-1882aeeedf50"
      },
      "source": [
        "sum_16, hist_16, cfm_16, model_16 = Modelling_Stacked(embed_dim = 32,\n",
        "                                  layer1 = tf.keras.layers.LSTM(32, activation='tanh', return_sequences=True),\n",
        "                                  layer2 = tf.keras.layers.LSTM(16, activation='tanh'))\n"
      ],
      "execution_count": null,
      "outputs": [
        {
          "name": "stdout",
          "output_type": "stream",
          "text": [
            "Model: \"sequential\"\n",
            "_________________________________________________________________\n",
            "Layer (type)                 Output Shape              Param #   \n",
            "=================================================================\n",
            "embedding (Embedding)        (None, 25, 32)            32000     \n",
            "_________________________________________________________________\n",
            "lstm (LSTM)                  (None, 25, 32)            8320      \n",
            "_________________________________________________________________\n",
            "lstm_1 (LSTM)                (None, 16)                3136      \n",
            "_________________________________________________________________\n",
            "dense (Dense)                (None, 3)                 51        \n",
            "=================================================================\n",
            "Total params: 43,507\n",
            "Trainable params: 43,507\n",
            "Non-trainable params: 0\n",
            "_________________________________________________________________\n",
            "Accuracy : 74.14%\n",
            "Precision: 74.14%\n",
            "Recall: 74.14%\n",
            "F1-Score(m): 74.14%\n",
            "F1-Score(M) : 69.58%\n",
            "F1-Score(w) : 75.04%\n"
          ]
        }
      ]
    },
    {
      "cell_type": "code",
      "metadata": {
        "colab": {
          "base_uri": "https://localhost:8080/"
        },
        "id": "GRov0mtsmCCT",
        "outputId": "1765b45d-bc54-480a-8ebb-fcdc330775cb"
      },
      "source": [
        "sum_17, hist_17, cfm_17, model_17 = Modelling_Stacked(embed_dim = 32,\n",
        "                                  layer1 = tf.keras.layers.LSTM(64, activation='tanh', return_sequences=True),\n",
        "                                  layer2 = tf.keras.layers.LSTM(32, activation='tanh'))\n"
      ],
      "execution_count": null,
      "outputs": [
        {
          "name": "stdout",
          "output_type": "stream",
          "text": [
            "Model: \"sequential\"\n",
            "_________________________________________________________________\n",
            "Layer (type)                 Output Shape              Param #   \n",
            "=================================================================\n",
            "embedding (Embedding)        (None, 25, 32)            32000     \n",
            "_________________________________________________________________\n",
            "lstm (LSTM)                  (None, 25, 64)            24832     \n",
            "_________________________________________________________________\n",
            "lstm_1 (LSTM)                (None, 32)                12416     \n",
            "_________________________________________________________________\n",
            "dense (Dense)                (None, 3)                 99        \n",
            "=================================================================\n",
            "Total params: 69,347\n",
            "Trainable params: 69,347\n",
            "Non-trainable params: 0\n",
            "_________________________________________________________________\n",
            "Accuracy : 86.21%\n",
            "Precision: 86.21%\n",
            "Recall: 86.21%\n",
            "F1-Score(m): 86.21%\n",
            "F1-Score(M) : 83.38%\n",
            "F1-Score(w) : 86.12%\n"
          ]
        }
      ]
    },
    {
      "cell_type": "code",
      "metadata": {
        "colab": {
          "base_uri": "https://localhost:8080/"
        },
        "id": "h2tuFBpimCkZ",
        "outputId": "1d41840d-6345-41a7-874e-f41c3b510ade"
      },
      "source": [
        "sum_18, hist_18, cfm_18, model_18 = Modelling_Stacked(embed_dim = 32,\n",
        "                                  layer1 = tf.keras.layers.LSTM(128, activation='tanh', return_sequences=True),\n",
        "                                  layer2 = tf.keras.layers.LSTM(64, activation='tanh'))\n"
      ],
      "execution_count": null,
      "outputs": [
        {
          "name": "stdout",
          "output_type": "stream",
          "text": [
            "Model: \"sequential\"\n",
            "_________________________________________________________________\n",
            "Layer (type)                 Output Shape              Param #   \n",
            "=================================================================\n",
            "embedding (Embedding)        (None, 25, 32)            32000     \n",
            "_________________________________________________________________\n",
            "lstm (LSTM)                  (None, 25, 128)           82432     \n",
            "_________________________________________________________________\n",
            "lstm_1 (LSTM)                (None, 64)                49408     \n",
            "_________________________________________________________________\n",
            "dense (Dense)                (None, 3)                 195       \n",
            "=================================================================\n",
            "Total params: 164,035\n",
            "Trainable params: 164,035\n",
            "Non-trainable params: 0\n",
            "_________________________________________________________________\n",
            "Accuracy : 81.03%\n",
            "Precision: 81.03%\n",
            "Recall: 81.03%\n",
            "F1-Score(m): 81.03%\n",
            "F1-Score(M) : 76.57%\n",
            "F1-Score(w) : 80.52%\n"
          ]
        }
      ]
    },
    {
      "cell_type": "code",
      "metadata": {
        "colab": {
          "base_uri": "https://localhost:8080/"
        },
        "id": "mPbMa_AimDFF",
        "outputId": "f2f3ebd4-e9b9-48ba-b343-1bd7dd2fc15a"
      },
      "source": [
        "sum_19, hist_19, cfm_19, model_19 = Modelling_Stacked(embed_dim = 16,\n",
        "                                  layer1 = tf.keras.layers.Bidirectional(tf.keras.layers.LSTM(32, activation='tanh', return_sequences=True)),\n",
        "                                  layer2 = tf.keras.layers.Bidirectional(tf.keras.layers.LSTM(16, activation='tanh')))\n"
      ],
      "execution_count": null,
      "outputs": [
        {
          "name": "stdout",
          "output_type": "stream",
          "text": [
            "Model: \"sequential\"\n",
            "_________________________________________________________________\n",
            "Layer (type)                 Output Shape              Param #   \n",
            "=================================================================\n",
            "embedding (Embedding)        (None, 25, 16)            16000     \n",
            "_________________________________________________________________\n",
            "bidirectional (Bidirectional (None, 25, 64)            12544     \n",
            "_________________________________________________________________\n",
            "bidirectional_1 (Bidirection (None, 32)                10368     \n",
            "_________________________________________________________________\n",
            "dense (Dense)                (None, 3)                 99        \n",
            "=================================================================\n",
            "Total params: 39,011\n",
            "Trainable params: 39,011\n",
            "Non-trainable params: 0\n",
            "_________________________________________________________________\n",
            "Accuracy : 79.31%\n",
            "Precision: 79.31%\n",
            "Recall: 79.31%\n",
            "F1-Score(m): 79.31%\n",
            "F1-Score(M) : 77.70%\n",
            "F1-Score(w) : 79.72%\n"
          ]
        }
      ]
    },
    {
      "cell_type": "code",
      "metadata": {
        "colab": {
          "base_uri": "https://localhost:8080/"
        },
        "id": "H8p248k8mDjI",
        "outputId": "162413a7-a81b-4ae3-b1c8-d48068e1b75c"
      },
      "source": [
        "sum_20, hist_20, cfm_20, model_20 = Modelling_Stacked(embed_dim = 16,\n",
        "                                  layer1 = tf.keras.layers.Bidirectional(tf.keras.layers.LSTM(64, activation='tanh', return_sequences=True)),\n",
        "                                  layer2 = tf.keras.layers.Bidirectional(tf.keras.layers.LSTM(32, activation='tanh')))\n"
      ],
      "execution_count": null,
      "outputs": [
        {
          "name": "stdout",
          "output_type": "stream",
          "text": [
            "Model: \"sequential\"\n",
            "_________________________________________________________________\n",
            "Layer (type)                 Output Shape              Param #   \n",
            "=================================================================\n",
            "embedding (Embedding)        (None, 25, 16)            16000     \n",
            "_________________________________________________________________\n",
            "bidirectional (Bidirectional (None, 25, 128)           41472     \n",
            "_________________________________________________________________\n",
            "bidirectional_1 (Bidirection (None, 64)                41216     \n",
            "_________________________________________________________________\n",
            "dense (Dense)                (None, 3)                 195       \n",
            "=================================================================\n",
            "Total params: 98,883\n",
            "Trainable params: 98,883\n",
            "Non-trainable params: 0\n",
            "_________________________________________________________________\n",
            "Accuracy : 81.03%\n",
            "Precision: 81.03%\n",
            "Recall: 81.03%\n",
            "F1-Score(m): 81.03%\n",
            "F1-Score(M) : 78.72%\n",
            "F1-Score(w) : 81.25%\n"
          ]
        }
      ]
    },
    {
      "cell_type": "code",
      "metadata": {
        "colab": {
          "base_uri": "https://localhost:8080/"
        },
        "id": "Z2-JR2X7mD_2",
        "outputId": "6f2a0447-6bde-45a9-fabe-e1f76abde181"
      },
      "source": [
        "sum_21, hist_21, cfm_21, model_21 = Modelling_Stacked(embed_dim = 16,\n",
        "                                  layer1 = tf.keras.layers.Bidirectional(tf.keras.layers.LSTM(128, activation='tanh', return_sequences=True)),\n",
        "                                  layer2 = tf.keras.layers.Bidirectional(tf.keras.layers.LSTM(64, activation='tanh')))\n"
      ],
      "execution_count": null,
      "outputs": [
        {
          "name": "stdout",
          "output_type": "stream",
          "text": [
            "Model: \"sequential\"\n",
            "_________________________________________________________________\n",
            "Layer (type)                 Output Shape              Param #   \n",
            "=================================================================\n",
            "embedding (Embedding)        (None, 25, 16)            16000     \n",
            "_________________________________________________________________\n",
            "bidirectional (Bidirectional (None, 25, 256)           148480    \n",
            "_________________________________________________________________\n",
            "bidirectional_1 (Bidirection (None, 128)               164352    \n",
            "_________________________________________________________________\n",
            "dense (Dense)                (None, 3)                 387       \n",
            "=================================================================\n",
            "Total params: 329,219\n",
            "Trainable params: 329,219\n",
            "Non-trainable params: 0\n",
            "_________________________________________________________________\n",
            "Accuracy : 86.21%\n",
            "Precision: 86.21%\n",
            "Recall: 86.21%\n",
            "F1-Score(m): 86.21%\n",
            "F1-Score(M) : 83.78%\n",
            "F1-Score(w) : 86.25%\n"
          ]
        }
      ]
    },
    {
      "cell_type": "code",
      "metadata": {
        "colab": {
          "base_uri": "https://localhost:8080/"
        },
        "id": "-zgMBgmOmEcG",
        "outputId": "076ff425-77de-4523-b03f-1ca06a1b0154"
      },
      "source": [
        "sum_22, hist_22, cfm_22, model_22 = Modelling_Stacked(embed_dim = 32,\n",
        "                                  layer1 = tf.keras.layers.Bidirectional(tf.keras.layers.LSTM(32, activation='tanh', return_sequences=True)),\n",
        "                                  layer2 = tf.keras.layers.Bidirectional(tf.keras.layers.LSTM(16, activation='tanh')))\n"
      ],
      "execution_count": null,
      "outputs": [
        {
          "name": "stdout",
          "output_type": "stream",
          "text": [
            "Model: \"sequential\"\n",
            "_________________________________________________________________\n",
            "Layer (type)                 Output Shape              Param #   \n",
            "=================================================================\n",
            "embedding (Embedding)        (None, 25, 32)            32000     \n",
            "_________________________________________________________________\n",
            "bidirectional (Bidirectional (None, 25, 64)            16640     \n",
            "_________________________________________________________________\n",
            "bidirectional_1 (Bidirection (None, 32)                10368     \n",
            "_________________________________________________________________\n",
            "dense (Dense)                (None, 3)                 99        \n",
            "=================================================================\n",
            "Total params: 59,107\n",
            "Trainable params: 59,107\n",
            "Non-trainable params: 0\n",
            "_________________________________________________________________\n",
            "Accuracy : 82.76%\n",
            "Precision: 82.76%\n",
            "Recall: 82.76%\n",
            "F1-Score(m): 82.76%\n",
            "F1-Score(M) : 79.48%\n",
            "F1-Score(w) : 82.61%\n"
          ]
        }
      ]
    },
    {
      "cell_type": "code",
      "metadata": {
        "colab": {
          "base_uri": "https://localhost:8080/"
        },
        "id": "rq8gUKrsmE25",
        "outputId": "2f755cde-d86e-413d-b284-62d41d266ed8"
      },
      "source": [
        "sum_23, hist_23, cfm_23, model_23 = Modelling_Stacked(embed_dim = 32,\n",
        "                                  layer1 = tf.keras.layers.Bidirectional(tf.keras.layers.LSTM(64, activation='tanh', return_sequences=True)),\n",
        "                                  layer2 = tf.keras.layers.Bidirectional(tf.keras.layers.LSTM(32, activation='tanh')))\n"
      ],
      "execution_count": null,
      "outputs": [
        {
          "name": "stdout",
          "output_type": "stream",
          "text": [
            "Model: \"sequential\"\n",
            "_________________________________________________________________\n",
            "Layer (type)                 Output Shape              Param #   \n",
            "=================================================================\n",
            "embedding (Embedding)        (None, 25, 32)            32000     \n",
            "_________________________________________________________________\n",
            "bidirectional (Bidirectional (None, 25, 128)           49664     \n",
            "_________________________________________________________________\n",
            "bidirectional_1 (Bidirection (None, 64)                41216     \n",
            "_________________________________________________________________\n",
            "dense (Dense)                (None, 3)                 195       \n",
            "=================================================================\n",
            "Total params: 123,075\n",
            "Trainable params: 123,075\n",
            "Non-trainable params: 0\n",
            "_________________________________________________________________\n",
            "Accuracy : 89.66%\n",
            "Precision: 89.66%\n",
            "Recall: 89.66%\n",
            "F1-Score(m): 89.66%\n",
            "F1-Score(M) : 87.26%\n",
            "F1-Score(w) : 89.57%\n"
          ]
        }
      ]
    },
    {
      "cell_type": "code",
      "metadata": {
        "colab": {
          "background_save": true,
          "base_uri": "https://localhost:8080/"
        },
        "id": "tB4ve787mFXa",
        "outputId": "5319737a-829e-4217-d706-e2f8e2c82c71"
      },
      "source": [
        "sum_24, hist_24, cfm_24, model_24 = Modelling_Stacked(embed_dim = 32,\n",
        "                                  layer1 = tf.keras.layers.Bidirectional(tf.keras.layers.LSTM(128, activation='tanh', return_sequences=True)),\n",
        "                                  layer2 = tf.keras.layers.Bidirectional(tf.keras.layers.LSTM(64, activation='tanh')))                                  "
      ],
      "execution_count": null,
      "outputs": [
        {
          "name": "stdout",
          "output_type": "stream",
          "text": [
            "Model: \"sequential\"\n",
            "_________________________________________________________________\n",
            "Layer (type)                 Output Shape              Param #   \n",
            "=================================================================\n",
            "embedding (Embedding)        (None, 25, 32)            32000     \n",
            "_________________________________________________________________\n",
            "bidirectional (Bidirectional (None, 25, 256)           164864    \n",
            "_________________________________________________________________\n",
            "bidirectional_1 (Bidirection (None, 128)               164352    \n",
            "_________________________________________________________________\n",
            "dense (Dense)                (None, 3)                 387       \n",
            "=================================================================\n",
            "Total params: 361,603\n",
            "Trainable params: 361,603\n",
            "Non-trainable params: 0\n",
            "_________________________________________________________________\n",
            "Epoch 1/150\n",
            "26/26 - 9s - loss: 1.0972 - accuracy: 0.3653 - val_loss: 1.0884 - val_accuracy: 0.1698\n",
            "Epoch 2/150\n",
            "26/26 - 1s - loss: 0.8607 - accuracy: 0.5535 - val_loss: 0.9131 - val_accuracy: 0.5094\n",
            "Epoch 3/150\n",
            "26/26 - 1s - loss: 0.2906 - accuracy: 0.8856 - val_loss: 0.8143 - val_accuracy: 0.7925\n",
            "Epoch 4/150\n",
            "26/26 - 1s - loss: 0.1260 - accuracy: 0.9680 - val_loss: 0.9477 - val_accuracy: 0.7170\n",
            "Epoch 5/150\n",
            "26/26 - 1s - loss: 0.0734 - accuracy: 0.9791 - val_loss: 0.8544 - val_accuracy: 0.7925\n",
            "Epoch 6/150\n",
            "26/26 - 1s - loss: 0.0277 - accuracy: 0.9951 - val_loss: 0.9469 - val_accuracy: 0.8113\n",
            "Epoch 7/150\n",
            "26/26 - 1s - loss: 0.0028 - accuracy: 1.0000 - val_loss: 1.1694 - val_accuracy: 0.7736\n",
            "Epoch 8/150\n",
            "26/26 - 1s - loss: 0.0015 - accuracy: 1.0000 - val_loss: 1.1976 - val_accuracy: 0.8113\n",
            "Epoch 9/150\n",
            "26/26 - 1s - loss: 0.0129 - accuracy: 0.9975 - val_loss: 1.0971 - val_accuracy: 0.8302\n",
            "Epoch 10/150\n",
            "26/26 - 1s - loss: 0.0014 - accuracy: 1.0000 - val_loss: 1.1965 - val_accuracy: 0.8113\n",
            "Epoch 11/150\n",
            "26/26 - 1s - loss: 6.3309e-04 - accuracy: 1.0000 - val_loss: 1.2659 - val_accuracy: 0.8113\n",
            "Epoch 12/150\n",
            "26/26 - 1s - loss: 4.6612e-04 - accuracy: 1.0000 - val_loss: 1.2978 - val_accuracy: 0.8113\n",
            "Epoch 13/150\n",
            "26/26 - 1s - loss: 3.7179e-04 - accuracy: 1.0000 - val_loss: 1.3256 - val_accuracy: 0.8113\n",
            "Epoch 14/150\n",
            "26/26 - 1s - loss: 3.1014e-04 - accuracy: 1.0000 - val_loss: 1.3487 - val_accuracy: 0.8113\n",
            "Epoch 15/150\n",
            "26/26 - 1s - loss: 2.6580e-04 - accuracy: 1.0000 - val_loss: 1.3709 - val_accuracy: 0.8113\n",
            "Epoch 16/150\n",
            "26/26 - 1s - loss: 2.3226e-04 - accuracy: 1.0000 - val_loss: 1.3905 - val_accuracy: 0.8113\n",
            "Epoch 17/150\n",
            "26/26 - 1s - loss: 2.0566e-04 - accuracy: 1.0000 - val_loss: 1.4120 - val_accuracy: 0.8113\n",
            "Epoch 18/150\n",
            "26/26 - 1s - loss: 1.8422e-04 - accuracy: 1.0000 - val_loss: 1.4300 - val_accuracy: 0.8113\n",
            "Epoch 19/150\n",
            "26/26 - 1s - loss: 1.6637e-04 - accuracy: 1.0000 - val_loss: 1.4463 - val_accuracy: 0.8113\n",
            "Epoch 20/150\n",
            "26/26 - 1s - loss: 1.5134e-04 - accuracy: 1.0000 - val_loss: 1.4622 - val_accuracy: 0.8113\n",
            "Epoch 21/150\n",
            "26/26 - 1s - loss: 1.3848e-04 - accuracy: 1.0000 - val_loss: 1.4787 - val_accuracy: 0.8113\n",
            "Epoch 22/150\n",
            "26/26 - 1s - loss: 1.2730e-04 - accuracy: 1.0000 - val_loss: 1.4929 - val_accuracy: 0.8113\n",
            "Epoch 23/150\n",
            "26/26 - 1s - loss: 1.1759e-04 - accuracy: 1.0000 - val_loss: 1.5059 - val_accuracy: 0.8113\n",
            "Epoch 24/150\n",
            "26/26 - 1s - loss: 1.0897e-04 - accuracy: 1.0000 - val_loss: 1.5230 - val_accuracy: 0.8113\n",
            "Epoch 25/150\n",
            "26/26 - 1s - loss: 1.0134e-04 - accuracy: 1.0000 - val_loss: 1.5363 - val_accuracy: 0.8113\n",
            "Epoch 26/150\n",
            "26/26 - 1s - loss: 9.4625e-05 - accuracy: 1.0000 - val_loss: 1.5475 - val_accuracy: 0.8113\n",
            "Epoch 27/150\n",
            "26/26 - 1s - loss: 8.8510e-05 - accuracy: 1.0000 - val_loss: 1.5599 - val_accuracy: 0.8113\n",
            "Epoch 28/150\n",
            "26/26 - 1s - loss: 8.3060e-05 - accuracy: 1.0000 - val_loss: 1.5718 - val_accuracy: 0.8113\n",
            "Epoch 29/150\n",
            "26/26 - 1s - loss: 7.8207e-05 - accuracy: 1.0000 - val_loss: 1.5822 - val_accuracy: 0.8113\n",
            "Epoch 30/150\n",
            "26/26 - 1s - loss: 7.3678e-05 - accuracy: 1.0000 - val_loss: 1.5921 - val_accuracy: 0.8113\n",
            "Epoch 31/150\n",
            "26/26 - 1s - loss: 6.9651e-05 - accuracy: 1.0000 - val_loss: 1.6023 - val_accuracy: 0.8113\n",
            "Epoch 32/150\n",
            "26/26 - 1s - loss: 6.5911e-05 - accuracy: 1.0000 - val_loss: 1.6141 - val_accuracy: 0.8113\n",
            "Epoch 33/150\n",
            "26/26 - 1s - loss: 6.2533e-05 - accuracy: 1.0000 - val_loss: 1.6230 - val_accuracy: 0.8113\n",
            "Epoch 34/150\n",
            "26/26 - 1s - loss: 5.9412e-05 - accuracy: 1.0000 - val_loss: 1.6328 - val_accuracy: 0.8113\n",
            "Epoch 35/150\n",
            "26/26 - 1s - loss: 5.6537e-05 - accuracy: 1.0000 - val_loss: 1.6424 - val_accuracy: 0.8113\n",
            "Epoch 36/150\n",
            "26/26 - 1s - loss: 5.3876e-05 - accuracy: 1.0000 - val_loss: 1.6503 - val_accuracy: 0.8113\n",
            "Epoch 37/150\n",
            "26/26 - 1s - loss: 5.1403e-05 - accuracy: 1.0000 - val_loss: 1.6595 - val_accuracy: 0.8113\n",
            "Epoch 38/150\n",
            "26/26 - 1s - loss: 4.9109e-05 - accuracy: 1.0000 - val_loss: 1.6686 - val_accuracy: 0.8113\n",
            "Epoch 39/150\n",
            "26/26 - 1s - loss: 4.6993e-05 - accuracy: 1.0000 - val_loss: 1.6768 - val_accuracy: 0.8113\n",
            "Epoch 40/150\n",
            "26/26 - 1s - loss: 4.4999e-05 - accuracy: 1.0000 - val_loss: 1.6853 - val_accuracy: 0.8113\n",
            "Epoch 41/150\n",
            "26/26 - 1s - loss: 4.3118e-05 - accuracy: 1.0000 - val_loss: 1.6923 - val_accuracy: 0.8113\n",
            "Epoch 42/150\n",
            "26/26 - 1s - loss: 4.1375e-05 - accuracy: 1.0000 - val_loss: 1.7009 - val_accuracy: 0.8113\n",
            "Epoch 43/150\n",
            "26/26 - 1s - loss: 3.9754e-05 - accuracy: 1.0000 - val_loss: 1.7083 - val_accuracy: 0.8113\n",
            "Epoch 44/150\n",
            "26/26 - 1s - loss: 3.8211e-05 - accuracy: 1.0000 - val_loss: 1.7161 - val_accuracy: 0.8113\n",
            "Epoch 45/150\n",
            "26/26 - 1s - loss: 3.6756e-05 - accuracy: 1.0000 - val_loss: 1.7224 - val_accuracy: 0.8113\n",
            "Epoch 46/150\n",
            "26/26 - 1s - loss: 3.5391e-05 - accuracy: 1.0000 - val_loss: 1.7311 - val_accuracy: 0.8113\n",
            "Epoch 47/150\n",
            "26/26 - 1s - loss: 3.4101e-05 - accuracy: 1.0000 - val_loss: 1.7370 - val_accuracy: 0.8113\n",
            "Epoch 48/150\n",
            "26/26 - 1s - loss: 3.2887e-05 - accuracy: 1.0000 - val_loss: 1.7440 - val_accuracy: 0.8113\n",
            "Epoch 49/150\n",
            "26/26 - 1s - loss: 3.1724e-05 - accuracy: 1.0000 - val_loss: 1.7514 - val_accuracy: 0.8113\n",
            "Epoch 50/150\n",
            "26/26 - 1s - loss: 3.0628e-05 - accuracy: 1.0000 - val_loss: 1.7576 - val_accuracy: 0.8113\n",
            "Epoch 51/150\n",
            "26/26 - 1s - loss: 2.9581e-05 - accuracy: 1.0000 - val_loss: 1.7647 - val_accuracy: 0.8113\n",
            "Epoch 52/150\n",
            "26/26 - 1s - loss: 2.8589e-05 - accuracy: 1.0000 - val_loss: 1.7706 - val_accuracy: 0.8113\n",
            "Epoch 53/150\n",
            "26/26 - 1s - loss: 2.7651e-05 - accuracy: 1.0000 - val_loss: 1.7770 - val_accuracy: 0.8113\n",
            "Epoch 54/150\n",
            "26/26 - 1s - loss: 2.6758e-05 - accuracy: 1.0000 - val_loss: 1.7843 - val_accuracy: 0.8113\n",
            "Epoch 55/150\n",
            "26/26 - 1s - loss: 2.5899e-05 - accuracy: 1.0000 - val_loss: 1.7898 - val_accuracy: 0.8113\n",
            "Epoch 56/150\n",
            "26/26 - 1s - loss: 2.5086e-05 - accuracy: 1.0000 - val_loss: 1.7958 - val_accuracy: 0.8113\n",
            "Epoch 57/150\n",
            "26/26 - 1s - loss: 2.4309e-05 - accuracy: 1.0000 - val_loss: 1.8017 - val_accuracy: 0.8113\n",
            "Epoch 58/150\n",
            "26/26 - 1s - loss: 2.3570e-05 - accuracy: 1.0000 - val_loss: 1.8065 - val_accuracy: 0.8113\n",
            "Epoch 59/150\n",
            "26/26 - 1s - loss: 2.2857e-05 - accuracy: 1.0000 - val_loss: 1.8132 - val_accuracy: 0.8113\n",
            "Epoch 60/150\n",
            "26/26 - 1s - loss: 2.2180e-05 - accuracy: 1.0000 - val_loss: 1.8190 - val_accuracy: 0.8113\n",
            "Epoch 61/150\n",
            "26/26 - 1s - loss: 2.1532e-05 - accuracy: 1.0000 - val_loss: 1.8253 - val_accuracy: 0.8113\n",
            "Epoch 62/150\n",
            "26/26 - 1s - loss: 2.0907e-05 - accuracy: 1.0000 - val_loss: 1.8298 - val_accuracy: 0.8113\n",
            "Epoch 63/150\n",
            "26/26 - 1s - loss: 2.0309e-05 - accuracy: 1.0000 - val_loss: 1.8358 - val_accuracy: 0.8113\n",
            "Epoch 64/150\n",
            "26/26 - 1s - loss: 1.9739e-05 - accuracy: 1.0000 - val_loss: 1.8417 - val_accuracy: 0.8113\n",
            "Epoch 65/150\n",
            "26/26 - 1s - loss: 1.9191e-05 - accuracy: 1.0000 - val_loss: 1.8468 - val_accuracy: 0.8113\n",
            "Epoch 66/150\n",
            "26/26 - 1s - loss: 1.8658e-05 - accuracy: 1.0000 - val_loss: 1.8523 - val_accuracy: 0.8113\n",
            "Epoch 67/150\n",
            "26/26 - 1s - loss: 1.8145e-05 - accuracy: 1.0000 - val_loss: 1.8570 - val_accuracy: 0.8113\n",
            "Epoch 68/150\n",
            "26/26 - 1s - loss: 1.7655e-05 - accuracy: 1.0000 - val_loss: 1.8627 - val_accuracy: 0.8113\n",
            "Epoch 69/150\n",
            "26/26 - 1s - loss: 1.7185e-05 - accuracy: 1.0000 - val_loss: 1.8677 - val_accuracy: 0.8113\n",
            "Epoch 70/150\n",
            "26/26 - 1s - loss: 1.6732e-05 - accuracy: 1.0000 - val_loss: 1.8725 - val_accuracy: 0.8113\n",
            "Epoch 71/150\n",
            "26/26 - 1s - loss: 1.6289e-05 - accuracy: 1.0000 - val_loss: 1.8770 - val_accuracy: 0.8113\n",
            "Epoch 72/150\n",
            "26/26 - 1s - loss: 1.5864e-05 - accuracy: 1.0000 - val_loss: 1.8813 - val_accuracy: 0.8113\n",
            "Epoch 73/150\n",
            "26/26 - 1s - loss: 1.5454e-05 - accuracy: 1.0000 - val_loss: 1.8865 - val_accuracy: 0.8113\n",
            "Epoch 74/150\n",
            "26/26 - 1s - loss: 1.5066e-05 - accuracy: 1.0000 - val_loss: 1.8911 - val_accuracy: 0.8113\n",
            "Epoch 75/150\n",
            "26/26 - 1s - loss: 1.4686e-05 - accuracy: 1.0000 - val_loss: 1.8971 - val_accuracy: 0.8113\n",
            "Epoch 76/150\n",
            "26/26 - 1s - loss: 1.4318e-05 - accuracy: 1.0000 - val_loss: 1.9018 - val_accuracy: 0.8113\n",
            "Epoch 77/150\n",
            "26/26 - 1s - loss: 1.3969e-05 - accuracy: 1.0000 - val_loss: 1.9062 - val_accuracy: 0.8113\n",
            "Epoch 78/150\n",
            "26/26 - 1s - loss: 1.3625e-05 - accuracy: 1.0000 - val_loss: 1.9108 - val_accuracy: 0.8113\n",
            "Epoch 79/150\n",
            "26/26 - 1s - loss: 1.3292e-05 - accuracy: 1.0000 - val_loss: 1.9150 - val_accuracy: 0.8113\n",
            "Epoch 80/150\n",
            "26/26 - 1s - loss: 1.2977e-05 - accuracy: 1.0000 - val_loss: 1.9199 - val_accuracy: 0.8113\n",
            "Epoch 81/150\n",
            "26/26 - 1s - loss: 1.2667e-05 - accuracy: 1.0000 - val_loss: 1.9243 - val_accuracy: 0.8113\n",
            "Epoch 82/150\n",
            "26/26 - 1s - loss: 1.2368e-05 - accuracy: 1.0000 - val_loss: 1.9282 - val_accuracy: 0.8113\n",
            "Epoch 83/150\n",
            "26/26 - 1s - loss: 1.2079e-05 - accuracy: 1.0000 - val_loss: 1.9320 - val_accuracy: 0.8113\n",
            "Epoch 84/150\n",
            "26/26 - 1s - loss: 1.1797e-05 - accuracy: 1.0000 - val_loss: 1.9366 - val_accuracy: 0.8113\n",
            "Epoch 85/150\n",
            "26/26 - 1s - loss: 1.1523e-05 - accuracy: 1.0000 - val_loss: 1.9410 - val_accuracy: 0.8113\n",
            "Epoch 86/150\n",
            "26/26 - 1s - loss: 1.1257e-05 - accuracy: 1.0000 - val_loss: 1.9460 - val_accuracy: 0.8113\n",
            "Epoch 87/150\n",
            "26/26 - 1s - loss: 1.1001e-05 - accuracy: 1.0000 - val_loss: 1.9496 - val_accuracy: 0.8113\n",
            "Epoch 88/150\n",
            "26/26 - 1s - loss: 1.0751e-05 - accuracy: 1.0000 - val_loss: 1.9541 - val_accuracy: 0.8113\n",
            "Epoch 89/150\n",
            "26/26 - 1s - loss: 1.0513e-05 - accuracy: 1.0000 - val_loss: 1.9587 - val_accuracy: 0.8113\n",
            "Epoch 90/150\n",
            "26/26 - 1s - loss: 1.0279e-05 - accuracy: 1.0000 - val_loss: 1.9624 - val_accuracy: 0.8113\n",
            "Epoch 91/150\n",
            "26/26 - 1s - loss: 1.0049e-05 - accuracy: 1.0000 - val_loss: 1.9689 - val_accuracy: 0.8113\n",
            "Epoch 92/150\n",
            "26/26 - 1s - loss: 9.8298e-06 - accuracy: 1.0000 - val_loss: 1.9723 - val_accuracy: 0.8113\n",
            "Epoch 93/150\n",
            "26/26 - 1s - loss: 9.6153e-06 - accuracy: 1.0000 - val_loss: 1.9764 - val_accuracy: 0.8113\n",
            "Epoch 94/150\n",
            "26/26 - 1s - loss: 9.4082e-06 - accuracy: 1.0000 - val_loss: 1.9806 - val_accuracy: 0.8113\n",
            "Epoch 95/150\n",
            "26/26 - 1s - loss: 9.2033e-06 - accuracy: 1.0000 - val_loss: 1.9848 - val_accuracy: 0.8113\n",
            "Epoch 96/150\n",
            "26/26 - 1s - loss: 9.0072e-06 - accuracy: 1.0000 - val_loss: 1.9885 - val_accuracy: 0.8113\n",
            "Epoch 97/150\n",
            "26/26 - 1s - loss: 8.8129e-06 - accuracy: 1.0000 - val_loss: 1.9920 - val_accuracy: 0.8113\n",
            "Epoch 98/150\n",
            "26/26 - 1s - loss: 8.6269e-06 - accuracy: 1.0000 - val_loss: 1.9961 - val_accuracy: 0.8113\n",
            "Epoch 99/150\n",
            "26/26 - 1s - loss: 8.4452e-06 - accuracy: 1.0000 - val_loss: 2.0003 - val_accuracy: 0.8113\n",
            "Epoch 100/150\n",
            "26/26 - 1s - loss: 8.2713e-06 - accuracy: 1.0000 - val_loss: 2.0038 - val_accuracy: 0.8113\n",
            "Epoch 101/150\n",
            "26/26 - 1s - loss: 8.0967e-06 - accuracy: 1.0000 - val_loss: 2.0080 - val_accuracy: 0.8113\n",
            "Epoch 102/150\n",
            "26/26 - 1s - loss: 7.9308e-06 - accuracy: 1.0000 - val_loss: 2.0119 - val_accuracy: 0.8113\n",
            "Epoch 103/150\n",
            "26/26 - 1s - loss: 7.7650e-06 - accuracy: 1.0000 - val_loss: 2.0160 - val_accuracy: 0.8113\n",
            "Epoch 104/150\n",
            "26/26 - 1s - loss: 7.6030e-06 - accuracy: 1.0000 - val_loss: 2.0192 - val_accuracy: 0.8113\n",
            "Epoch 105/150\n",
            "26/26 - 1s - loss: 7.4497e-06 - accuracy: 1.0000 - val_loss: 2.0231 - val_accuracy: 0.8113\n",
            "Epoch 106/150\n",
            "26/26 - 1s - loss: 7.2956e-06 - accuracy: 1.0000 - val_loss: 2.0270 - val_accuracy: 0.8113\n",
            "Epoch 107/150\n",
            "26/26 - 1s - loss: 7.1505e-06 - accuracy: 1.0000 - val_loss: 2.0307 - val_accuracy: 0.8113\n",
            "Epoch 108/150\n",
            "26/26 - 1s - loss: 7.0096e-06 - accuracy: 1.0000 - val_loss: 2.0346 - val_accuracy: 0.8113\n",
            "Epoch 109/150\n",
            "26/26 - 1s - loss: 6.8662e-06 - accuracy: 1.0000 - val_loss: 2.0377 - val_accuracy: 0.8113\n",
            "Epoch 110/150\n",
            "26/26 - 1s - loss: 6.7338e-06 - accuracy: 1.0000 - val_loss: 2.0428 - val_accuracy: 0.8113\n",
            "Epoch 111/150\n",
            "26/26 - 1s - loss: 6.5926e-06 - accuracy: 1.0000 - val_loss: 2.0460 - val_accuracy: 0.8113\n",
            "Epoch 112/150\n",
            "26/26 - 1s - loss: 6.4672e-06 - accuracy: 1.0000 - val_loss: 2.0499 - val_accuracy: 0.8113\n",
            "Epoch 113/150\n",
            "26/26 - 1s - loss: 6.3386e-06 - accuracy: 1.0000 - val_loss: 2.0539 - val_accuracy: 0.8113\n",
            "Epoch 114/150\n",
            "26/26 - 1s - loss: 6.2148e-06 - accuracy: 1.0000 - val_loss: 2.0574 - val_accuracy: 0.8113\n",
            "Epoch 115/150\n",
            "26/26 - 1s - loss: 6.0970e-06 - accuracy: 1.0000 - val_loss: 2.0598 - val_accuracy: 0.8113\n",
            "Epoch 116/150\n",
            "26/26 - 1s - loss: 5.9755e-06 - accuracy: 1.0000 - val_loss: 2.0641 - val_accuracy: 0.8113\n",
            "Epoch 117/150\n",
            "26/26 - 1s - loss: 5.8587e-06 - accuracy: 1.0000 - val_loss: 2.0679 - val_accuracy: 0.8113\n",
            "Epoch 118/150\n",
            "26/26 - 1s - loss: 5.7468e-06 - accuracy: 1.0000 - val_loss: 2.0716 - val_accuracy: 0.8113\n",
            "Epoch 119/150\n",
            "26/26 - 1s - loss: 5.6379e-06 - accuracy: 1.0000 - val_loss: 2.0750 - val_accuracy: 0.8113\n",
            "Epoch 120/150\n",
            "26/26 - 1s - loss: 5.5291e-06 - accuracy: 1.0000 - val_loss: 2.0776 - val_accuracy: 0.8113\n",
            "Epoch 121/150\n",
            "26/26 - 1s - loss: 5.4162e-06 - accuracy: 1.0000 - val_loss: 2.0818 - val_accuracy: 0.8113\n",
            "Epoch 122/150\n",
            "26/26 - 1s - loss: 5.3198e-06 - accuracy: 1.0000 - val_loss: 2.0852 - val_accuracy: 0.8113\n",
            "Epoch 123/150\n",
            "26/26 - 1s - loss: 5.2165e-06 - accuracy: 1.0000 - val_loss: 2.0886 - val_accuracy: 0.8113\n",
            "Epoch 124/150\n",
            "26/26 - 1s - loss: 5.1150e-06 - accuracy: 1.0000 - val_loss: 2.0928 - val_accuracy: 0.8113\n",
            "Epoch 125/150\n",
            "26/26 - 1s - loss: 5.0197e-06 - accuracy: 1.0000 - val_loss: 2.0966 - val_accuracy: 0.8113\n",
            "Epoch 126/150\n",
            "26/26 - 1s - loss: 4.9242e-06 - accuracy: 1.0000 - val_loss: 2.0997 - val_accuracy: 0.8113\n",
            "Epoch 127/150\n",
            "26/26 - 1s - loss: 4.8323e-06 - accuracy: 1.0000 - val_loss: 2.1036 - val_accuracy: 0.8113\n",
            "Epoch 128/150\n",
            "26/26 - 1s - loss: 4.7420e-06 - accuracy: 1.0000 - val_loss: 2.1075 - val_accuracy: 0.8113\n",
            "Epoch 129/150\n",
            "26/26 - 1s - loss: 4.6528e-06 - accuracy: 1.0000 - val_loss: 2.1102 - val_accuracy: 0.8113\n",
            "Epoch 130/150\n",
            "26/26 - 1s - loss: 4.5666e-06 - accuracy: 1.0000 - val_loss: 2.1136 - val_accuracy: 0.8113\n",
            "Epoch 131/150\n",
            "26/26 - 1s - loss: 4.4780e-06 - accuracy: 1.0000 - val_loss: 2.1179 - val_accuracy: 0.8113\n",
            "Epoch 132/150\n",
            "26/26 - 1s - loss: 4.3971e-06 - accuracy: 1.0000 - val_loss: 2.1211 - val_accuracy: 0.8113\n",
            "Epoch 133/150\n",
            "26/26 - 1s - loss: 4.3148e-06 - accuracy: 1.0000 - val_loss: 2.1247 - val_accuracy: 0.8113\n",
            "Epoch 134/150\n",
            "26/26 - 1s - loss: 4.2311e-06 - accuracy: 1.0000 - val_loss: 2.1277 - val_accuracy: 0.8113\n",
            "Epoch 135/150\n",
            "26/26 - 1s - loss: 4.1568e-06 - accuracy: 1.0000 - val_loss: 2.1311 - val_accuracy: 0.8113\n",
            "Epoch 136/150\n",
            "26/26 - 1s - loss: 4.0785e-06 - accuracy: 1.0000 - val_loss: 2.1342 - val_accuracy: 0.8113\n",
            "Epoch 137/150\n",
            "26/26 - 1s - loss: 4.0011e-06 - accuracy: 1.0000 - val_loss: 2.1377 - val_accuracy: 0.8113\n",
            "Epoch 138/150\n",
            "26/26 - 1s - loss: 3.9270e-06 - accuracy: 1.0000 - val_loss: 2.1408 - val_accuracy: 0.8113\n",
            "Epoch 139/150\n",
            "26/26 - 1s - loss: 3.8530e-06 - accuracy: 1.0000 - val_loss: 2.1442 - val_accuracy: 0.8113\n",
            "Epoch 140/150\n",
            "26/26 - 1s - loss: 3.7832e-06 - accuracy: 1.0000 - val_loss: 2.1477 - val_accuracy: 0.8113\n",
            "Epoch 141/150\n",
            "26/26 - 1s - loss: 3.7119e-06 - accuracy: 1.0000 - val_loss: 2.1508 - val_accuracy: 0.8113\n",
            "Epoch 142/150\n",
            "26/26 - 1s - loss: 3.6425e-06 - accuracy: 1.0000 - val_loss: 2.1537 - val_accuracy: 0.8113\n",
            "Epoch 143/150\n",
            "26/26 - 1s - loss: 3.5752e-06 - accuracy: 1.0000 - val_loss: 2.1571 - val_accuracy: 0.8113\n",
            "Epoch 144/150\n",
            "26/26 - 1s - loss: 3.5072e-06 - accuracy: 1.0000 - val_loss: 2.1605 - val_accuracy: 0.8113\n",
            "Epoch 145/150\n",
            "26/26 - 1s - loss: 3.4465e-06 - accuracy: 1.0000 - val_loss: 2.1637 - val_accuracy: 0.8113\n",
            "Epoch 146/150\n",
            "26/26 - 1s - loss: 3.3761e-06 - accuracy: 1.0000 - val_loss: 2.1672 - val_accuracy: 0.8113\n",
            "Epoch 147/150\n",
            "26/26 - 1s - loss: 3.3151e-06 - accuracy: 1.0000 - val_loss: 2.1702 - val_accuracy: 0.8113\n",
            "Epoch 148/150\n",
            "26/26 - 1s - loss: 3.2512e-06 - accuracy: 1.0000 - val_loss: 2.1737 - val_accuracy: 0.8113\n",
            "Epoch 149/150\n",
            "26/26 - 1s - loss: 3.1887e-06 - accuracy: 1.0000 - val_loss: 2.1769 - val_accuracy: 0.8113\n",
            "Epoch 150/150\n",
            "26/26 - 1s - loss: 3.1340e-06 - accuracy: 1.0000 - val_loss: 2.1802 - val_accuracy: 0.8113\n",
            "Accuracy : 87.93%\n",
            "Precision: 87.93%\n",
            "Recall: 87.93%\n",
            "F1-Score(m): 87.93%\n",
            "F1-Score(M) : 84.69%\n",
            "F1-Score(w) : 87.57%\n"
          ]
        }
      ]
    },
    {
      "cell_type": "code",
      "metadata": {
        "id": "_Jtt2IyLAXh8",
        "scrolled": true
      },
      "source": [
        "#Model Final\n",
        "def Modelling_drp(embed_dim, layer, vocab_size=1000, validation_data = (validation_padded, validation_labels),\n",
        "              X_test = X_test, y_test = y_test) :\n",
        "  tf.keras.backend.clear_session()\n",
        "  embedding_dim = embed_dim\n",
        "  model =[]\n",
        "  model = tf.keras.Sequential([\n",
        "      tf.keras.layers.Embedding(vocab_size, embedding_dim, input_length=max_length),\n",
        "      layer,\n",
        "      tf.keras.layers.Dropout(0.1),\n",
        "      tf.keras.layers.Dense(3, activation='softmax')\n",
        "  ])\n",
        "  summary = model.summary()\n",
        "  model.compile(loss='categorical_crossentropy', optimizer='adam', metrics=['accuracy'])\n",
        "  epochs = 150\n",
        "\n",
        "  history = model.fit(train_padded, training_labels, shuffle=True,\n",
        "                    epochs=epochs, validation_data=validation_data, verbose=0)\n",
        "  model_final = tf.keras.models.clone_model(model)\n",
        "  \n",
        "  y_pred = model.predict(X_test)\n",
        "  y_pred1 = encode.inverse_transform(y_pred)\n",
        "  y_pred1 = list(np.concatenate(y_pred1).flat)\n",
        "\n",
        "  y_test1 = encode.inverse_transform(y_test)\n",
        "  y_test1 = list(np.concatenate(y_test1).flat)\n",
        "  cfm = confusion_matrix(y_test1, y_pred1, labels=['negatif', 'netral', 'positif'])\n",
        "\n",
        "  print('Accuracy : {:.2f}%'.format(accuracy_score(y_test1, y_pred1)*100))\n",
        "  print('Precision: {:.2f}%'.format(precision_score(y_test1, y_pred1, average=\"micro\")*100))\n",
        "  print('Recall: {:.2f}%'.format(recall_score(y_test1, y_pred1, average=\"micro\")*100))\n",
        "  print('F1-Score(m): {:.2f}%'.format(f1_score(y_test1, y_pred1, average=\"micro\")*100))\n",
        "  print('F1-Score(M) : {:.2f}%'.format(f1_score(y_test1, y_pred1, average='macro')*100))\n",
        "  print('F1-Score(w) : {:.2f}%'.format(f1_score(y_test1, y_pred1, average='weighted')*100))\n",
        "  return  summary, history, cfm, model_final"
      ],
      "execution_count": null,
      "outputs": []
    },
    {
      "cell_type": "code",
      "metadata": {
        "colab": {
          "base_uri": "https://localhost:8080/"
        },
        "id": "1ML_SfnHo3D5",
        "outputId": "b9553863-df06-43f8-84cf-4e1f2ba37b93"
      },
      "source": [
        "sum_5_drp, hist_5_drp, cfm_5_drp, model_5_drp = Modelling_drp(embed_dim = 32,\n",
        "                                  layer = tf.keras.layers.LSTM(64, activation='tanh'))"
      ],
      "execution_count": null,
      "outputs": [
        {
          "name": "stdout",
          "output_type": "stream",
          "text": [
            "Model: \"sequential\"\n",
            "_________________________________________________________________\n",
            "Layer (type)                 Output Shape              Param #   \n",
            "=================================================================\n",
            "embedding (Embedding)        (None, 25, 32)            32000     \n",
            "_________________________________________________________________\n",
            "lstm (LSTM)                  (None, 64)                24832     \n",
            "_________________________________________________________________\n",
            "dropout (Dropout)            (None, 64)                0         \n",
            "_________________________________________________________________\n",
            "dense (Dense)                (None, 3)                 195       \n",
            "=================================================================\n",
            "Total params: 57,027\n",
            "Trainable params: 57,027\n",
            "Non-trainable params: 0\n",
            "_________________________________________________________________\n",
            "Accuracy : 82.76%\n",
            "Precision: 82.76%\n",
            "Recall: 82.76%\n",
            "F1-Score(m): 82.76%\n",
            "F1-Score(M) : 79.44%\n",
            "F1-Score(w) : 82.68%\n"
          ]
        }
      ]
    },
    {
      "cell_type": "code",
      "metadata": {
        "colab": {
          "base_uri": "https://localhost:8080/"
        },
        "id": "iXZxEm9hqIZF",
        "outputId": "3a999343-901d-4ecd-c8d1-2810c54ce690"
      },
      "source": [
        "sum_10_drp, hist_10_drp, cfm_10_drp, model_10_drp = Modelling_drp(embed_dim = 32,                                \n",
        "                                  layer = tf.keras.layers.Bidirectional(tf.keras.layers.LSTM(32, activation='tanh')))"
      ],
      "execution_count": null,
      "outputs": [
        {
          "name": "stdout",
          "output_type": "stream",
          "text": [
            "Model: \"sequential\"\n",
            "_________________________________________________________________\n",
            "Layer (type)                 Output Shape              Param #   \n",
            "=================================================================\n",
            "embedding (Embedding)        (None, 25, 32)            32000     \n",
            "_________________________________________________________________\n",
            "bidirectional (Bidirectional (None, 64)                16640     \n",
            "_________________________________________________________________\n",
            "dropout (Dropout)            (None, 64)                0         \n",
            "_________________________________________________________________\n",
            "dense (Dense)                (None, 3)                 195       \n",
            "=================================================================\n",
            "Total params: 48,835\n",
            "Trainable params: 48,835\n",
            "Non-trainable params: 0\n",
            "_________________________________________________________________\n",
            "Accuracy : 81.03%\n",
            "Precision: 81.03%\n",
            "Recall: 81.03%\n",
            "F1-Score(m): 81.03%\n",
            "F1-Score(M) : 77.25%\n",
            "F1-Score(w) : 80.52%\n"
          ]
        }
      ]
    },
    {
      "cell_type": "code",
      "metadata": {
        "id": "rzkUMkcSpuFa"
      },
      "source": [
        "#Model Final\n",
        "def Modelling_Stacked_drp(embed_dim, layer1, layer2, vocab_size=1000, validation_data = (validation_padded, validation_labels),\n",
        "              X_test = X_test, y_test = y_test) :\n",
        "  tf.keras.backend.clear_session()\n",
        "  embedding_dim = embed_dim\n",
        "  model =[]\n",
        "  model = tf.keras.Sequential([\n",
        "      tf.keras.layers.Embedding(vocab_size, embedding_dim, input_length=max_length),\n",
        "      layer1,\n",
        "      layer2,\n",
        "      tf.keras.layers.Dropout(0.1),\n",
        "      tf.keras.layers.Dense(3, activation='softmax')\n",
        "  ])\n",
        "  summary = model.summary()\n",
        "  model.compile(loss='categorical_crossentropy', optimizer='adam', metrics=['accuracy'])\n",
        "  epochs = 150\n",
        "\n",
        "  history = model.fit(train_padded, training_labels, shuffle=True,\n",
        "                    epochs=epochs, validation_data=validation_data, verbose=0)\n",
        "  model_final = tf.keras.models.clone_model(model)\n",
        "  \n",
        "  y_pred = model.predict(X_test)\n",
        "  y_pred1 = encode.inverse_transform(y_pred)\n",
        "  y_pred1 = list(np.concatenate(y_pred1).flat)\n",
        "\n",
        "  y_test1 = encode.inverse_transform(y_test)\n",
        "  y_test1 = list(np.concatenate(y_test1).flat)\n",
        "  cfm = confusion_matrix(y_test1, y_pred1, labels=['negatif', 'netral', 'positif'])\n",
        "\n",
        "  print('Accuracy : {:.2f}%'.format(accuracy_score(y_test1, y_pred1)*100))\n",
        "  print('Precision: {:.2f}%'.format(precision_score(y_test1, y_pred1, average=\"micro\")*100))\n",
        "  print('Recall: {:.2f}%'.format(recall_score(y_test1, y_pred1, average=\"micro\")*100))\n",
        "  print('F1-Score(m): {:.2f}%'.format(f1_score(y_test1, y_pred1, average=\"micro\")*100))\n",
        "  print('F1-Score(M) : {:.2f}%'.format(f1_score(y_test1, y_pred1, average='macro')*100))\n",
        "  print('F1-Score(w) : {:.2f}%'.format(f1_score(y_test1, y_pred1, average='weighted')*100))\n",
        "  return  summary, history, cfm, model_final"
      ],
      "execution_count": null,
      "outputs": []
    },
    {
      "cell_type": "code",
      "metadata": {
        "colab": {
          "base_uri": "https://localhost:8080/"
        },
        "id": "pXHwF2mIptok",
        "outputId": "f2c7af65-33da-4f5e-986a-e41d663df3e8"
      },
      "source": [
        "sum_17_drp, hist_17_drp, cfm_17_drp, model_17_drp = Modelling_Stacked_drp(embed_dim = 32,\n",
        "                                  layer1 = tf.keras.layers.LSTM(64, activation='tanh', return_sequences=True),\n",
        "                                  layer2 = tf.keras.layers.LSTM(32, activation='tanh'))\n"
      ],
      "execution_count": null,
      "outputs": [
        {
          "name": "stdout",
          "output_type": "stream",
          "text": [
            "Model: \"sequential\"\n",
            "_________________________________________________________________\n",
            "Layer (type)                 Output Shape              Param #   \n",
            "=================================================================\n",
            "embedding (Embedding)        (None, 25, 32)            32000     \n",
            "_________________________________________________________________\n",
            "lstm (LSTM)                  (None, 25, 64)            24832     \n",
            "_________________________________________________________________\n",
            "lstm_1 (LSTM)                (None, 32)                12416     \n",
            "_________________________________________________________________\n",
            "dropout (Dropout)            (None, 32)                0         \n",
            "_________________________________________________________________\n",
            "dense (Dense)                (None, 3)                 99        \n",
            "=================================================================\n",
            "Total params: 69,347\n",
            "Trainable params: 69,347\n",
            "Non-trainable params: 0\n",
            "_________________________________________________________________\n",
            "Accuracy : 75.86%\n",
            "Precision: 75.86%\n",
            "Recall: 75.86%\n",
            "F1-Score(m): 75.86%\n",
            "F1-Score(M) : 74.70%\n",
            "F1-Score(w) : 77.36%\n"
          ]
        }
      ]
    },
    {
      "cell_type": "code",
      "metadata": {
        "colab": {
          "base_uri": "https://localhost:8080/"
        },
        "id": "-lq8c4xAqVQR",
        "outputId": "30f589d5-861f-4c40-c198-cdb993d4c10c"
      },
      "source": [
        "sum_23_drp, hist_23_drp, cfm_23_drp, model_23_drp = Modelling_Stacked_drp(embed_dim = 32,\n",
        "                                  layer1 = tf.keras.layers.Bidirectional(tf.keras.layers.LSTM(64, activation='tanh', return_sequences=True)),\n",
        "                                  layer2 = tf.keras.layers.Bidirectional(tf.keras.layers.LSTM(32, activation='tanh')))\n"
      ],
      "execution_count": null,
      "outputs": [
        {
          "name": "stdout",
          "output_type": "stream",
          "text": [
            "Model: \"sequential\"\n",
            "_________________________________________________________________\n",
            "Layer (type)                 Output Shape              Param #   \n",
            "=================================================================\n",
            "embedding (Embedding)        (None, 25, 32)            32000     \n",
            "_________________________________________________________________\n",
            "bidirectional (Bidirectional (None, 25, 128)           49664     \n",
            "_________________________________________________________________\n",
            "bidirectional_1 (Bidirection (None, 64)                41216     \n",
            "_________________________________________________________________\n",
            "dropout (Dropout)            (None, 64)                0         \n",
            "_________________________________________________________________\n",
            "dense (Dense)                (None, 3)                 195       \n",
            "=================================================================\n",
            "Total params: 123,075\n",
            "Trainable params: 123,075\n",
            "Non-trainable params: 0\n",
            "_________________________________________________________________\n",
            "Accuracy : 75.86%\n",
            "Precision: 75.86%\n",
            "Recall: 75.86%\n",
            "F1-Score(m): 75.86%\n",
            "F1-Score(M) : 74.82%\n",
            "F1-Score(w) : 76.53%\n"
          ]
        }
      ]
    },
    {
      "cell_type": "code",
      "metadata": {
        "id": "tIKbxY8P0tLY"
      },
      "source": [
        "import warnings\n",
        "warnings.filterwarnings('ignore')"
      ],
      "execution_count": null,
      "outputs": []
    },
    {
      "cell_type": "code",
      "metadata": {
        "id": "CPG5x7kS4UDI"
      },
      "source": [
        "# for i in range(0, len(dfs_test)) :\n",
        "#   dfs_text = dfs_test[\"text\"].iloc[i]\n",
        "#   # dfs_text = [clean_text(dfs_text)]\n",
        "#   dfs_text = tokenizer.texts_to_sequences(dfs_text)\n",
        "#   dfs_text_padded = pad_sequences(dfs_text, maxlen=max_length, padding=padding_type,\n",
        "#                                    truncating=trunc_type)\n",
        "#   result_sentimen = model.predict(dfs_text_padded)\n",
        "#   pred = encode.inverse_transform(result_sentimen)\n",
        "#   pred = str(pred.tolist()[0][0])\n",
        "#   dfs_test[\"Predicted Sentimen\"].iloc[i]= pred"
      ],
      "execution_count": null,
      "outputs": []
    },
    {
      "cell_type": "code",
      "metadata": {
        "colab": {
          "base_uri": "https://localhost:8080/"
        },
        "id": "CqoFcjCo4pj2",
        "outputId": "d3ed3054-f7b1-41e8-a710-f4ff6d37f4e0"
      },
      "source": [
        "# y_true = dfs_test['sentimen']\n",
        "# y_pred = dfs_test['Predicted Sentimen']\n",
        "\n",
        "# confusion_matrix(y_true, y_pred, labels=['negatif', 'netral', 'positif'])"
      ],
      "execution_count": null,
      "outputs": [
        {
          "data": {
            "text/plain": [
              "array([[ 0, 13,  0],\n",
              "       [ 0, 24,  0],\n",
              "       [ 0,  5,  0]])"
            ]
          },
          "execution_count": 46,
          "metadata": {
            "tags": []
          },
          "output_type": "execute_result"
        }
      ]
    },
    {
      "cell_type": "code",
      "metadata": {
        "id": "vkxlzq6O1Kg8"
      },
      "source": [
        "# y_pred = model.predict(X_test)\n",
        "# pred1 = encode.inverse_transform(y_pred)\n",
        "# pred1 = list(np.concatenate(pred1).flat)\n",
        "\n",
        "# y_test1 = encode.inverse_transform(y_test)\n",
        "# y_test1 = list(np.concatenate(y_test1).flat)\n",
        "# cfm = confusion_matrix(y_test1, pred, labels=['negatif', 'netral', 'positif'])"
      ],
      "execution_count": null,
      "outputs": []
    },
    {
      "cell_type": "code",
      "metadata": {
        "colab": {
          "base_uri": "https://localhost:8080/"
        },
        "id": "8KW8q8UV0p79",
        "outputId": "283fdf59-4b66-4a10-c05c-7e8980b15d80"
      },
      "source": [
        "confusion_matrix(y_test1, pred, labels=['negatif', 'netral', 'positif'])"
      ],
      "execution_count": null,
      "outputs": [
        {
          "data": {
            "text/plain": [
              "array([[ 8,  4,  0],\n",
              "       [11, 24,  0],\n",
              "       [ 5,  1,  5]])"
            ]
          },
          "execution_count": 95,
          "metadata": {
            "tags": []
          },
          "output_type": "execute_result"
        }
      ]
    },
    {
      "cell_type": "code",
      "metadata": {
        "colab": {
          "base_uri": "https://localhost:8080/",
          "height": 573
        },
        "id": "Euwlh4oXr0L2",
        "outputId": "75b1b00d-664f-41b6-e5e5-98ff24294fac"
      },
      "source": [
        "def plot_graphs(history, string, model):\n",
        "  plt.plot(history.history[string])\n",
        "  plt.plot(history.history['val_'+string])\n",
        "  plt.xlabel(\"Epochs\")\n",
        "  plt.ylabel(string)\n",
        "  plt.title(model)\n",
        "  plt.legend([string, 'val_'+string])\n",
        "  plt.show()\n",
        "  \n",
        "plot_graphs(hist_23, \"accuracy\", 'text')\n",
        "plot_graphs(hist_23, \"loss\", 'text')"
      ],
      "execution_count": null,
      "outputs": [
        {
          "data": {
            "image/png": "[encoded data removed]",
            "text/plain": [
              "<Figure size 432x288 with 1 Axes>"
            ]
          },
          "metadata": {
            "tags": []
          },
          "output_type": "display_data"
        },
        {
          "data": {
            "image/png": "[encoded data removed]",
            "text/plain": [
              "<Figure size 432x288 with 1 Axes>"
            ]
          },
          "metadata": {
            "tags": []
          },
          "output_type": "display_data"
        }
      ]
    },
    {
      "cell_type": "code",
      "metadata": {
        "id": "Jv-oaH-75SLD"
      },
      "source": [
        "def plot_confusion_matrix(cm, classes,\n",
        "                          normalize=False,\n",
        "                          title='Confusion matrix',\n",
        "                          cmap=plt.cm.Blues):\n",
        "\n",
        "    import itertools\n",
        "    print(cm)\n",
        "\n",
        "    plt.imshow(cm, interpolation='nearest', cmap=cmap)\n",
        "    plt.title(title)\n",
        "    plt.colorbar()\n",
        "    tick_marks = np.arange(len(classes))\n",
        "    plt.xticks(tick_marks, classes, rotation=45)\n",
        "    plt.yticks(tick_marks, classes)\n",
        "\n",
        "    fmt = '.2f' if normalize else 'd'\n",
        "    thresh = cm.max() / 2.\n",
        "    for i, j in itertools.product(range(cm.shape[0]), range(cm.shape[1])):\n",
        "        plt.text(j, i, format(cm[i, j], fmt),\n",
        "                 horizontalalignment=\"center\",\n",
        "                 color=\"white\" if cm[i, j] > thresh else \"black\")\n",
        "\n",
        "    plt.ylabel('True label')\n",
        "    plt.xlabel('Predicted label')\n",
        "    plt.tight_layout()"
      ],
      "execution_count": null,
      "outputs": []
    },
    {
      "cell_type": "code",
      "metadata": {
        "colab": {
          "base_uri": "https://localhost:8080/",
          "height": 348
        },
        "id": "D74UQ8VBrqzc",
        "outputId": "3398d9a0-a461-4dde-d3a4-9b4429eceb0d"
      },
      "source": [
        "plt.figure()\n",
        "plot_confusion_matrix(cfm_23, classes=['negatif', 'netral', 'positif'],\n",
        "                      title='Confusion matrix')"
      ],
      "execution_count": null,
      "outputs": [
        {
          "name": "stdout",
          "output_type": "stream",
          "text": [
            "[[11  1  0]\n",
            " [ 2 33  0]\n",
            " [ 1  2  8]]\n"
          ]
        },
        {
          "data": {
            "image/png": "[encoded data removed]",
            "text/plain": [
              "<Figure size 432x288 with 2 Axes>"
            ]
          },
          "metadata": {
            "tags": []
          },
          "output_type": "display_data"
        }
      ]
    },
    {
      "cell_type": "code",
      "metadata": {
        "colab": {
          "base_uri": "https://localhost:8080/"
        },
        "id": "oJLTbejr_-lQ",
        "outputId": "6f995d27-50fc-4372-9a7b-3c4600a01a73"
      },
      "source": [
        "sum_23, hist_23, cfm_23, model_23 = Modelling_Stacked(embed_dim = 32,\n",
        "                                  layer1 = tf.keras.layers.Bidirectional(tf.keras.layers.LSTM(64, activation='tanh', return_sequences=True)),\n",
        "                                  layer2 = tf.keras.layers.Bidirectional(tf.keras.layers.LSTM(32, activation='tanh')))"
      ],
      "execution_count": null,
      "outputs": [
        {
          "name": "stdout",
          "output_type": "stream",
          "text": [
            "Model: \"sequential\"\n",
            "_________________________________________________________________\n",
            "Layer (type)                 Output Shape              Param #   \n",
            "=================================================================\n",
            "embedding (Embedding)        (None, 25, 32)            32000     \n",
            "_________________________________________________________________\n",
            "bidirectional (Bidirectional (None, 25, 128)           49664     \n",
            "_________________________________________________________________\n",
            "bidirectional_1 (Bidirection (None, 64)                41216     \n",
            "_________________________________________________________________\n",
            "dense (Dense)                (None, 3)                 195       \n",
            "=================================================================\n",
            "Total params: 123,075\n",
            "Trainable params: 123,075\n",
            "Non-trainable params: 0\n",
            "_________________________________________________________________\n",
            "Accuracy : 87.93%\n",
            "Precision: 87.93%\n",
            "Recall: 87.93%\n",
            "F1-Score(m): 87.93%\n",
            "F1-Score(M) : 85.29%\n",
            "F1-Score(w) : 87.84%\n"
          ]
        }
      ]
    },
    {
      "cell_type": "code",
      "metadata": {
        "colab": {
          "base_uri": "https://localhost:8080/",
          "height": 533
        },
        "id": "k1TOY6LwV8Df",
        "outputId": "3038e62e-968e-49a3-dc8c-543b24303481"
      },
      "source": [
        "from tensorflow.keras.utils import plot_model\n",
        "plot_model(model_23, show_shapes=True, show_layer_names=True, expand_nested=True)"
      ],
      "execution_count": null,
      "outputs": [
        {
          "data": {
            "image/png": "[encoded data removed]",
            "text/plain": [
              "<IPython.core.display.Image object>"
            ]
          },
          "execution_count": 17,
          "metadata": {
            "tags": []
          },
          "output_type": "execute_result"
        }
      ]
    }
  ]
}